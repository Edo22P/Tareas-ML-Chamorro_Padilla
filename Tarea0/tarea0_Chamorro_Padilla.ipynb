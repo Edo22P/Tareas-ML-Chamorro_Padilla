{
 "cells": [
  {
   "cell_type": "code",
   "execution_count": 1,
   "metadata": {},
   "outputs": [],
   "source": [
    "import numpy as np\n",
    "import random\n",
    "import time\n",
    "import matplotlib.pyplot as plt\n",
    "from sklearn.datasets import load_breast_cancer\n",
    "from sklearn.preprocessing import StandardScaler\n",
    "from sklearn import linear_model"
   ]
  },
  {
   "cell_type": "markdown",
   "metadata": {},
   "source": [
    "## 1. Perceptrón a mano"
   ]
  },
  {
   "cell_type": "markdown",
   "metadata": {},
   "source": [
    "a) Escriba una función que calcule el valor de salida (*output*) del modelo $f(x)$ para un patrón de entrada $x$ a través de los pesos $w$ del modelo. *Decida si incluir los bias dentro de $w$ o manejarlos de manera separada*."
   ]
  },
  {
   "cell_type": "code",
   "execution_count": 2,
   "metadata": {},
   "outputs": [],
   "source": [
    "def output(entradas,pesos,bias):\n",
    "    resultado=np.dot(entradas,pesos) + bias\n",
    "    if(resultado>=0):\n",
    "        return 1\n",
    "    else:\n",
    "        return 0"
   ]
  },
  {
   "cell_type": "markdown",
   "metadata": {},
   "source": [
    "b) Escriba una función que implemente el clásico algoritmo del **Perceptrón** para un problema binario que permita entrenarlo en un conjunto de datos de tamaño $N$, leídos de manera *online* (uno a uno). *Recordar la decisión anterior sobre los bias*."
   ]
  },
  {
   "cell_type": "code",
   "execution_count": 3,
   "metadata": {},
   "outputs": [],
   "source": [
    "def Perceptron_training(x_train, y_train, tasa, w, bias = 0):\n",
    "    m = len(x_train)\n",
    "    for i in range(m):\n",
    "        predicted = output(x_train[i], w, bias)\n",
    "        \n",
    "        if(y_train[i] != predicted):\n",
    "            if(y_train[i] == 1):\n",
    "                w += tasa * x_train[i]\n",
    "            else:\n",
    "                w -= tasa * x_train[i]\n",
    "    return w\n"
   ]
  },
  {
   "cell_type": "markdown",
   "metadata": {},
   "source": [
    "c) Demuestre que lo implementado funciona en un problema real de clasificación. Para esto utilice el dataset **Breast cancer wisconsin**, disponible a través de la librería __[*sklearn*](http://scikit-learn.org)__, el cual corresponde a la detección de cancer mamario a través de características relevantes (numéricas continuas) de un examen realizado, como por ejemplo la textura, simetría y tamaño de una masa mamaria. Estas características deben combinarse linealmente para la detección del cancer.\n",
    "\n",
    "Para evaluar los resultados mida la exactitud (*accuracy*) de la clasificación durante el entrenamiento (por cada iteración/instancia/dato) y grafique, utilice el conjunto de entrenamiento realizando una sola pasada (el objetivo de esta sección es familiarizarse con el algoritmo). Además reporte el tiempo de entrenamiento mediante el algoritmo implementado."
   ]
  },
  {
   "cell_type": "code",
   "execution_count": 4,
   "metadata": {},
   "outputs": [],
   "source": [
    "#Version modificada de percptron_training(...), esta funcion devuelve un array con los pesos modificados en cada iteracion\n",
    "\n",
    "def Perceptron_training_W_return(x_train, y_train, random_train, tasa, w, bias = 0):\n",
    "    m = len(random_train)\n",
    "    pesos_por_iteracion = np.empty((m, x_train.shape[1]))\n",
    "    pos_w = 0\n",
    "    for i in random_train:\n",
    "        predicted = output(x_train[i], w, bias)\n",
    "        \n",
    "        if(y_train[i] != predicted):\n",
    "            if(y_train[i] == 1):\n",
    "                w += tasa * x_train[i]\n",
    "            else:\n",
    "                w -= tasa * x_train[i]\n",
    "        pesos_por_iteracion[pos_w] = w\n",
    "        pos_w += 1\n",
    "    return pesos_por_iteracion\n",
    "\n",
    "def accuracy(X, Y, random_test, W):\n",
    "    m = len(W)\n",
    "    n = len(random_test)\n",
    "    accuracy_list = np.zeros(m)\n",
    "    for i in range(m):\n",
    "        aciertos = 0\n",
    "        for j in random_test:\n",
    "            if(Y[j] == output(X[j], W[i], 0)):\n",
    "                aciertos += 1\n",
    "        accuracy_list[i] = aciertos/n #tasa de exactitud para W[i]    \n",
    "    return accuracy_list\n"
   ]
  },
  {
   "cell_type": "markdown",
   "metadata": {},
   "source": [
    "<div class=\"alert alert-block alert-info\">Dividiremos el set de datos iniciales en una parte de training (75%) y en otra de testing (25%). Generados a partir de números aleatorios</div>"
   ]
  },
  {
   "cell_type": "code",
   "execution_count": 5,
   "metadata": {},
   "outputs": [],
   "source": [
    "X_train,y_train = load_breast_cancer(return_X_y=True)\n",
    "m = len(X_train)\n",
    "scaler = StandardScaler().fit(X_train)\n",
    "X_train = scaler.transform(X_train)\n",
    "X_train = np.c_[X_train, np.ones(m) ] #add columns of 1's if you want\n",
    "\n",
    "\n",
    "random_train =random.sample(range(m), k=round(569*0.75)) #Devuelve una muestra de k numeros aleatorios no repetidos en el rango de m\n",
    "random_train.sort()\n",
    "\n",
    "random_test = []\n",
    "for i in range(m):\n",
    "    if i not in random_train:\n",
    "        random_test.append(i)\n"
   ]
  },
  {
   "cell_type": "markdown",
   "metadata": {},
   "source": [
    "<div class=\"alert alert-block alert-info\"> Medimos el tiempo de entrenamiento y graficamos la exactitud usando los datos de trainig y testing de la celda anterior.</div>"
   ]
  },
  {
   "cell_type": "code",
   "execution_count": 6,
   "metadata": {},
   "outputs": [
    {
     "name": "stdout",
     "output_type": "stream",
     "text": [
      "El tiempo de entreamiento corresponde a: 0.019971132278442383 segundos\n"
     ]
    },
    {
     "data": {
      "text/plain": [
       "Text(0.5,1,'Accuracy per Iteration')"
      ]
     },
     "execution_count": 6,
     "metadata": {},
     "output_type": "execute_result"
    },
    {
     "data": {
      "image/png": "[encoded data removed]",
      "text/plain": [
       "<Figure size 1080x432 with 1 Axes>"
      ]
     },
     "metadata": {},
     "output_type": "display_data"
    }
   ],
   "source": [
    "pesos_c = np.zeros(len(X_train[0]))\n",
    "\n",
    "start = time.time()\n",
    "lista_pesos = Perceptron_training_W_return(X_train, y_train, random_train, 0.1, pesos_c)\n",
    "end = time.time()\n",
    "\n",
    "print(\"El tiempo de entreamiento corresponde a:\", end - start, \"segundos\")\n",
    "\n",
    "x_axis = np.arange(len(random_train))  \n",
    "y_axis = accuracy(X_train, y_train, random_test, lista_pesos)\n",
    "\n",
    "plt.rcParams[\"figure.figsize\"] = (15,6)\n",
    "\n",
    "plt.scatter(x_axis, y_axis)\n",
    "plt.title(\"Accuracy per Iteration\", fontsize = 32)\n"
   ]
  },
  {
   "cell_type": "markdown",
   "metadata": {},
   "source": [
    "d) Escriba una función que implemente el **Forgetrón** [[3]](#refs) con una memoria de tamaño $K$ y la función de kernel como el producto interno (*inner-product*), esto es $<a,b> = \\sum_i a_i \\cdot b_i$."
   ]
  },
  {
   "cell_type": "code",
   "execution_count": 7,
   "metadata": {},
   "outputs": [],
   "source": [
    "#lista.pop(0)\n",
    "\n",
    "def threshold_forgetron(x_train, y_train, memory_array, i_actual):\n",
    "    sum = 0\n",
    "    if (len(memory_array) == 0):\n",
    "        return 0\n",
    "    for i in range(len(memory_array)):\n",
    "        sum += y_train[i_actual]*np.dot(x_train[memory_array[i]], x_train[i_actual])\n",
    "    if(sum >= 0):\n",
    "        return 1\n",
    "    else:\n",
    "        return 0\n",
    "    \n",
    "    \n",
    "def forgetron(x_train, y_train, random_train):\n",
    "    memory_array = []\n",
    "    array_restricciones = []\n",
    "    for i in random_train:\n",
    "        if(y_train[i] != threshold_forgetron(x_train, y_train, memory_array, i)):\n",
    "            memory_array.append(i)\n",
    "        if(len(memory_array) > 10):\n",
    "            memory_array.pop(0)\n",
    "        a = memory_array.copy()\n",
    "        array_restricciones.append(a)\n",
    "    return array_restricciones\n",
    "\n",
    "def accuracy_forgetron(X, Y, random_test, array_restricciones):\n",
    "    m = len(array_restricciones) \n",
    "    n = len(random_test)\n",
    "    accuracy_list = np.zeros(m)\n",
    "    for i in range(m):\n",
    "        aciertos = 0\n",
    "        for j in random_test:\n",
    "            if(Y[j] == threshold_forgetron(X, Y, array_restricciones[i], j)):\n",
    "                aciertos += 1\n",
    "        accuracy_list[i] = aciertos/n     \n",
    "    return accuracy_list"
   ]
  },
  {
   "cell_type": "markdown",
   "metadata": {},
   "source": [
    "e) Vuelva a realizar el item c) para el **Forgetrón** con un $K=10$ y compare los resultados."
   ]
  },
  {
   "cell_type": "code",
   "execution_count": 8,
   "metadata": {},
   "outputs": [
    {
     "name": "stdout",
     "output_type": "stream",
     "text": [
      "El tiempo de entreamiento corresponde a: 0.015978336334228516 segundos\n"
     ]
    },
    {
     "data": {
      "text/plain": [
       "Text(0.5,1,'Accuracy per Iteration')"
      ]
     },
     "execution_count": 8,
     "metadata": {},
     "output_type": "execute_result"
    },
    {
     "data": {
      "image/png": "[encoded data removed]",
      "text/plain": [
       "<Figure size 1080x432 with 1 Axes>"
      ]
     },
     "metadata": {},
     "output_type": "display_data"
    }
   ],
   "source": [
    "start = time.time()\n",
    "lista_restricciones = forgetron(X_train, y_train, random_train)\n",
    "end = time.time()\n",
    "\n",
    "accuracy_forgetron(X_train, y_train, random_test, lista_restricciones)\n",
    "\n",
    "\n",
    "print(\"El tiempo de entreamiento corresponde a:\", end - start, \"segundos\")\n",
    "\n",
    "x_axis = np.arange(len(random_train))  \n",
    "y_axis = accuracy_forgetron(X_train, y_train, random_test, lista_restricciones)\n",
    "\n",
    "plt.rcParams[\"figure.figsize\"] = (15,6)\n",
    "\n",
    "plt.scatter(x_axis, y_axis)\n",
    "plt.title(\"Accuracy per Iteration\", fontsize = 32)"
   ]
  },
  {
   "cell_type": "markdown",
   "metadata": {},
   "source": [
    "f) Escriba una función que compute la función sigmoidal para una entrada $\\xi$ cualquiera. *Tenga cuidado con los límites de números que puede trabajar python (por ejemplo $\\exp{800}\\rightarrow +\\infty$)*. *Se aconseja acotar/truncar los valores que entran a la función para que la operación se pueda realizar*. Además escriba una función que calcule la salida del nuevo modelo $g(x; w,b)$ con esta función sigmoidal.\n"
   ]
  },
  {
   "cell_type": "code",
   "execution_count": 9,
   "metadata": {},
   "outputs": [],
   "source": [
    "def sigmoidal(entrada):\n",
    "    entrada=round(entrada,2)\n",
    "    denominador=1 + np.exp(-entrada)\n",
    "    return round(1/denominador,2)\n",
    "\n",
    "def g(entradas,pesos,bias):\n",
    "    resultado=np.dot(entradas,pesos) + bias\n",
    "    resultado=sigmoidal(resultado)\n",
    "    return resultado\n"
   ]
  },
  {
   "cell_type": "markdown",
   "metadata": {},
   "source": [
    "g) Escriba una función que calcule la función de pérdida descrita anteriormente para un dato $x^{(i)}$, utilizando $g(x^{(i)};w,b)$. *Tenga cuidado con los límites del logaritmo (recordad que $\\log{0}\\rightarrow +\\infty$)*."
   ]
  },
  {
   "cell_type": "code",
   "execution_count": 10,
   "metadata": {},
   "outputs": [],
   "source": [
    "import math\n",
    "def binary_cross(y,g):\n",
    "        if(g==0):\n",
    "            print(\"no se puede log 0 no existe\")\n",
    "            return -1\n",
    "        elif((1-g)==0):\n",
    "            print(\"no se puede log 0 no existe\")\n",
    "            return -1\n",
    "        c=-y*math.log(g)-((1-y)*math.log(1-g))\n",
    "        return round(c,2)"
   ]
  },
  {
   "cell_type": "markdown",
   "metadata": {},
   "source": [
    "h) Escriba una función que calcule el gradiente (derivada) de la función de pérdida anterior con respecto a los pesos del modelo $w$. *Se recomienda derivarla analíticamente y luego escribirla*. *Recuerde el uso de la regla de la cadena*."
   ]
  },
  {
   "cell_type": "code",
   "execution_count": 11,
   "metadata": {},
   "outputs": [],
   "source": [
    "def grad_l(X,Y,pesos,bias=0):\n",
    "    a=g(X,pesos,bias)\n",
    "    return X*(a-Y)"
   ]
  },
  {
   "cell_type": "markdown",
   "metadata": {},
   "source": [
    " i) Realice una modificación al algoritmo implementado en b) (**Perceptrón**) para que se adapte a la función objetivo *binary cross entropy* implementada, para ésto haga uso del algoritmo de optimización SGD [[4]](#refs) (*Stochastic Gradient Descend*) con tasa de aprendizaje $\\eta \\in [0,1]$.\n"
   ]
  },
  {
   "cell_type": "code",
   "execution_count": 12,
   "metadata": {},
   "outputs": [],
   "source": [
    "def perceptron_binary_cross(x_train, y_train, tasa, w, bias = 0):\n",
    "    m = len(x_train)\n",
    "    for i in range(m):\n",
    "        w-=tasa*grad_l(x_train[i],y_train[i],w)\n",
    "    return w\n",
    "        \n",
    "\n",
    "\n",
    "\n",
    "\n",
    "\n"
   ]
  },
  {
   "cell_type": "code",
   "execution_count": 13,
   "metadata": {},
   "outputs": [
    {
     "data": {
      "text/plain": [
       "array([-2.73326847, -1.12935579, -2.85896416, -2.94709195, -0.219157  ,\n",
       "       -0.36393461, -2.62942246, -2.82469254, -1.35757209,  1.3501539 ,\n",
       "       -2.06441516,  0.02367379, -3.35643713, -2.97045974, -3.80795291,\n",
       "        3.47920719,  2.48733484, -0.30184394, -0.79464881,  4.83414496,\n",
       "       -3.71678412, -3.78443749, -4.17334193, -3.96368419, -3.08813148,\n",
       "       -0.23392064, -1.72255842, -3.44612665, -3.94935561,  0.10552685,\n",
       "        2.107     ])"
      ]
     },
     "execution_count": 13,
     "metadata": {},
     "output_type": "execute_result"
    }
   ],
   "source": [
    "pesos_i = np.zeros(len(X_train[0]))\n",
    "\n",
    "perceptron_binary_cross(X_train, y_train, 0.7, pesos_i)\n"
   ]
  }
 ],
 "metadata": {
  "kernelspec": {
   "display_name": "Python 3",
   "language": "python",
   "name": "python3"
  },
  "language_info": {
   "codemirror_mode": {
    "name": "ipython",
    "version": 3
   },
   "file_extension": ".py",
   "mimetype": "text/x-python",
   "name": "python",
   "nbconvert_exporter": "python",
   "pygments_lexer": "ipython3",
   "version": "3.6.5"
  }
 },
 "nbformat": 4,
 "nbformat_minor": 2
}
