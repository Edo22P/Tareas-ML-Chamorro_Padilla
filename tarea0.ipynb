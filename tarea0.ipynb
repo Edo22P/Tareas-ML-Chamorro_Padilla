{
 "cells": [
  {
   "cell_type": "code",
   "execution_count": 41,
   "metadata": {},
   "outputs": [
    {
     "name": "stdout",
     "output_type": "stream",
     "text": [
      "1\n",
      "1\n",
      "1\n",
      "1\n"
     ]
    }
   ],
   "source": [
    "#1a) Escriba una función que calcule el valor de salida (output) del modelo  𝑓(𝑥)  \n",
    "#para un patrón de entrada  𝑥  a través de los pesos  𝑤  del modelo. Decida si incluir los bias dentro de  𝑤  o \n",
    "#manejarlos de manera separada.\n",
    "def output(entradas,pesos,bias):\n",
    "    resultado=np.dot(entradas,pesos) + bias\n",
    "    return resultado\n",
    "\n",
    "pesos = [0, 0, 0]\n",
    "b0=1\n",
    "Matriz_entrenamiento = [[(1, 0, 0),1], [(1, 0, 1),1], [(1, 1, 0),1], [(1, 1, 1),0]]\n",
    "\n",
    "for entrada, salida in Matriz_entrenamiento:\n",
    "    a=output(entrada,pesos,b0)\n",
    "    print(a)\n",
    "\n",
    "    \n"
   ]
  },
  {
   "cell_type": "code",
   "execution_count": 27,
   "metadata": {},
   "outputs": [
    {
     "name": "stdout",
     "output_type": "stream",
     "text": [
      "------------------------------------------------------------\n",
      "[0, 0, 0]\n",
      "[0.1, 0.0, 0.0]\n",
      "[0.2, 0.0, 0.1]\n",
      "[0.2, 0.0, 0.1]\n",
      "------------------------------------------------------------\n",
      "[0.1, -0.1, 0.0]\n",
      "[0.2, -0.1, 0.0]\n",
      "[0.2, -0.1, 0.0]\n",
      "[0.30000000000000004, 0.0, 0.0]\n",
      "------------------------------------------------------------\n",
      "[0.20000000000000004, -0.1, -0.1]\n",
      "[0.20000000000000004, -0.1, -0.1]\n",
      "[0.30000000000000004, -0.1, 0.0]\n",
      "[0.30000000000000004, -0.1, 0.0]\n",
      "------------------------------------------------------------\n",
      "[0.20000000000000004, -0.2, -0.1]\n",
      "[0.20000000000000004, -0.2, -0.1]\n",
      "[0.30000000000000004, -0.2, 0.0]\n",
      "[0.4, -0.1, 0.0]\n",
      "------------------------------------------------------------\n",
      "[0.30000000000000004, -0.2, -0.1]\n",
      "[0.30000000000000004, -0.2, -0.1]\n",
      "[0.30000000000000004, -0.2, -0.1]\n",
      "[0.4, -0.1, -0.1]\n",
      "------------------------------------------------------------\n",
      "[0.30000000000000004, -0.2, -0.2]\n",
      "[0.30000000000000004, -0.2, -0.2]\n",
      "[0.4, -0.2, -0.1]\n",
      "[0.4, -0.2, -0.1]\n",
      "------------------------------------------------------------\n",
      "[0.4, -0.2, -0.1]\n",
      "[0.4, -0.2, -0.1]\n",
      "[0.4, -0.2, -0.1]\n",
      "[0.4, -0.2, -0.1]\n"
     ]
    }
   ],
   "source": [
    "#b) Escriba una función que implemente el clásico algoritmo del Perceptrón para un problema binario que permita entrenarlo en \n",
    "#un conjunto de datos de tamaño  𝑁 , leídos de manera online (uno a uno). Recordar la decisión anterior sobre los bias.\n",
    "import numpy as np\n",
    "def output(entradas,pesos,bias):\n",
    "    resultado=np.dot(entradas,pesos) + bias\n",
    "    return resultado\n",
    "\n",
    "tasa_de_aprendizaje = 0.1\n",
    "pesos = [0, 0, 0]\n",
    "Matriz_entrenamiento = [[(1, 0, 0),1], [(1, 0, 1),1], [(1, 1, 0),1], [(1, 1, 1),0]]\n",
    "b0=0.4\n",
    "def f(datos,aprendizaje,pesos,bias):\n",
    "    while True:\n",
    "            errores=0\n",
    "            print('-' * 60)\n",
    "            contador_de_errores = 0\n",
    "            for entrada, salida in datos:\n",
    "                print(pesos)\n",
    "                resultado=output(entrada,pesos,bias) > 0.5\n",
    "                diferencia=(salida-resultado) \n",
    "                if(diferencia!=0):\n",
    "                    errores+=1\n",
    "                    for j in range(len(pesos)):\n",
    "                        pesos[j]+= aprendizaje*diferencia*entrada[j]\n",
    "            if errores == 0:\n",
    "                break\n",
    "f(Matriz_entrenamiento,tasa_de_aprendizaje,pesos,b0)\n",
    "\n",
    "    \n",
    "            \n",
    "                \n"
   ]
  },
  {
   "cell_type": "code",
   "execution_count": 7,
   "metadata": {},
   "outputs": [
    {
     "name": "stdout",
     "output_type": "stream",
     "text": [
      "[ 1.82982061e+00 -3.53632408e-01  1.68595471e+00  1.90870825e+00\n",
      " -8.26962447e-01 -4.87071673e-01 -2.38458552e-02  5.48144156e-01\n",
      "  1.39236330e-03 -8.68652457e-01  4.99254601e-01 -8.76243603e-01\n",
      "  2.63326966e-01  7.42401948e-01 -6.05350847e-01 -6.92926270e-01\n",
      " -4.40780058e-01  2.60162067e-01 -8.05450380e-01 -9.94437403e-02\n",
      "  1.80592744e+00 -3.69203222e-01  1.53512599e+00  1.89048899e+00\n",
      " -3.75611957e-01 -4.30444219e-01 -1.46748968e-01  1.08708430e+00\n",
      " -2.43889668e-01  2.81189987e-01  1.00000000e+00]\n"
     ]
    }
   ],
   "source": [
    "\n",
    "X_train,y_train = load_breast_cancer(return_X_y=True) \n",
    "scaler = StandardScaler().fit(X_train) \n",
    "X_train = scaler.transform(X_train) \n",
    "X_train = np.c_[X_train, np.ones(len(X_train))]\n",
    "print(X_train[1])\n"
   ]
  },
  {
   "cell_type": "code",
   "execution_count": 47,
   "metadata": {},
   "outputs": [
    {
     "name": "stdout",
     "output_type": "stream",
     "text": [
      "1.4532\n",
      "0.5\n",
      "0.62\n",
      "0.5\n",
      "0.62\n",
      "0.5\n",
      "0.62\n",
      "0.5\n",
      "0.62\n"
     ]
    }
   ],
   "source": [
    "#f) Escriba una función que compute la función sigmoidal para una entrada  𝜉  cualquiera. Tenga cuidado con los \n",
    "#límites de números que puede trabajar python (por ejemplo  exp800→+∞ ). \n",
    "#Se aconseja acotar/truncar los valores que entran a la función para que la operación se pueda realizar.\n",
    "#Además escriba una función que calcule la salida del nuevo modelo  𝑔(𝑥;𝑤,𝑏)  con esta función sigmoidal.\n",
    "#𝜎(𝜉)=1/(1+𝑒−𝜉)\n",
    "import numpy as np\n",
    "def sigmoidal(entrada):\n",
    "    entrada=round(entrada,2)\n",
    "    denominador=1 + np.exp(-entrada)\n",
    "    return round(1/denominador,2)\n",
    "a=sigmoidal(1.4532)\n",
    "def g(entradas,pesos,bias,sigmo):\n",
    "    resultado=np.dot(entradas,pesos) + bias\n",
    "    resultado=resultado * sigmoidal(sigmo)\n",
    "    return resultado\n",
    "\n",
    "pesos = [0, 0, 0]\n",
    "b0=1\n",
    "sigmoi=0.5\n",
    "Matriz_entrenamiento = [[(1, 0, 0),1], [(1, 0, 1),1], [(1, 1, 0),1], [(1, 1, 1),0]]\n",
    "for entrada, salida in Matriz_entrenamiento:\n",
    "    a=g(entrada,pesos,b0,sigmoi)\n",
    "    print(a)"
   ]
  },
  {
   "cell_type": "code",
   "execution_count": null,
   "metadata": {},
   "outputs": [],
   "source": [
    "\n",
    "    "
   ]
  },
  {
   "cell_type": "code",
   "execution_count": null,
   "metadata": {},
   "outputs": [],
   "source": []
  }
 ],
 "metadata": {
  "kernelspec": {
   "display_name": "Python 3",
   "language": "python",
   "name": "python3"
  },
  "language_info": {
   "codemirror_mode": {
    "name": "ipython",
    "version": 3
   },
   "file_extension": ".py",
   "mimetype": "text/x-python",
   "name": "python",
   "nbconvert_exporter": "python",
   "pygments_lexer": "ipython3",
   "version": "3.7.3"
  }
 },
 "nbformat": 4,
 "nbformat_minor": 2
}
