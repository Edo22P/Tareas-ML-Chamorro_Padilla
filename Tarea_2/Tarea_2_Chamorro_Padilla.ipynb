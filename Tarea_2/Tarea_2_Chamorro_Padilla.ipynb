{
 "cells": [
  {
   "cell_type": "markdown",
   "metadata": {},
   "source": [
    "## 1. Sentiment Analysis en Texto\n",
    "\n",
    "El análisis de emociones o sentimientos se refiere al proceso de extraer información acerca de la actitud\n",
    "que una persona (o grupo de ellas) manifiesta, en un determinado medio o formato digital, con respecto a un\n",
    "tópico o contexto de comunicación. Uno de los casos más estudiados corresponde a determinar la polaridad\n",
    "de un trozo de texto, es decir, clasificar una determinada evaluación escrita (*review*), en que una persona\n",
    "manifiesta una opinión, como *positiva*, *negativa* o *neutral*. Esto también ha sido extendido a otros medios, como lo es analizar la polaridad de textos en redes sociales.  La dificultad de este problema radica en el carácter altamente ambiguo e informal del lenguaje que utilizan naturalmente las personas ası́ como el manejo de negaciones, sarcasmo y abreviaciones en una frase.\n",
    "\n",
    "<img src=\"https://formtitanhelpdeskimage.s3.amazonaws.com/70c78f9df2fd5c130e7021644f78f4c5.jpg\" title=\"Title text\" width=\"40%\" />"
   ]
  },
  {
   "cell_type": "code",
   "execution_count": 1,
   "metadata": {},
   "outputs": [],
   "source": [
    "import pandas as pd\n",
    "import numpy as np\n",
    "import matplotlib.pyplot as plt\n",
    "\n",
    "ftr = open(\"train_data.csv\", \"r\",  encoding=\"ISO-8859-1\")\n",
    "rows = [line.split(\" \",1) for line in ftr.readlines()]\n",
    "df_train = pd.DataFrame(rows, columns=['Sentiment','Text'])\n",
    "df_train['Sentiment'] = (pd.to_numeric(df_train['Sentiment'])+1)/2 # 0 o 1\n",
    "\n",
    "fts = open(\"test_data.csv\", \"r\",  encoding=\"ISO-8859-1\")\n",
    "rows2 = [line.split(\" \",1) for line in fts.readlines()]\n",
    "df_test = pd.DataFrame(rows2, columns=['Sentiment','Text'])\n",
    "df_test['Sentiment'] = (pd.to_numeric(df_test['Sentiment'])+1)/2 # 0 o 1\n",
    "\n",
    "\n",
    "df_train_text = df_train.Text\n",
    "df_test_text = df_test.Text\n",
    "labels_train = df_train.Sentiment.values\n",
    "labels_test = df_test.Sentiment.values"
   ]
  },
  {
   "cell_type": "markdown",
   "metadata": {},
   "source": [
    "> a) Describa los datos trabajados, como la cantidad de datos en cada conjunto, largo de los textos, la cantidad de ejemplo por cada clase, o alguna otra forma que piense que pueda ser útil para comprender el problema trabajado.\n"
   ]
  },
  {
   "cell_type": "code",
   "execution_count": 134,
   "metadata": {},
   "outputs": [
    {
     "data": {
      "text/html": [
       "<div>\n",
       "<style scoped>\n",
       "    .dataframe tbody tr th:only-of-type {\n",
       "        vertical-align: middle;\n",
       "    }\n",
       "\n",
       "    .dataframe tbody tr th {\n",
       "        vertical-align: top;\n",
       "    }\n",
       "\n",
       "    .dataframe thead th {\n",
       "        text-align: right;\n",
       "    }\n",
       "</style>\n",
       "<table border=\"1\" class=\"dataframe\">\n",
       "  <thead>\n",
       "    <tr style=\"text-align: right;\">\n",
       "      <th></th>\n",
       "      <th>Sentiment</th>\n",
       "      <th>Text</th>\n",
       "    </tr>\n",
       "  </thead>\n",
       "  <tbody>\n",
       "    <tr>\n",
       "      <td>0</td>\n",
       "      <td>0.0</td>\n",
       "      <td>everything's serious , poetic , earnest and --...</td>\n",
       "    </tr>\n",
       "    <tr>\n",
       "      <td>1</td>\n",
       "      <td>0.0</td>\n",
       "      <td>narratively , trouble every day is a plodding ...</td>\n",
       "    </tr>\n",
       "    <tr>\n",
       "      <td>2</td>\n",
       "      <td>1.0</td>\n",
       "      <td>a truly wonderful tale combined with stunning ...</td>\n",
       "    </tr>\n",
       "    <tr>\n",
       "      <td>3</td>\n",
       "      <td>1.0</td>\n",
       "      <td>jason patric and ray liotta make for one splen...</td>\n",
       "    </tr>\n",
       "    <tr>\n",
       "      <td>4</td>\n",
       "      <td>0.0</td>\n",
       "      <td>haneke keeps us at arm's length . guided more ...</td>\n",
       "    </tr>\n",
       "    <tr>\n",
       "      <td>...</td>\n",
       "      <td>...</td>\n",
       "      <td>...</td>\n",
       "    </tr>\n",
       "    <tr>\n",
       "      <td>3549</td>\n",
       "      <td>0.0</td>\n",
       "      <td>it takes a strange kind of laziness to waste t...</td>\n",
       "    </tr>\n",
       "    <tr>\n",
       "      <td>3550</td>\n",
       "      <td>0.0</td>\n",
       "      <td>an easy watch , except for the annoying demean...</td>\n",
       "    </tr>\n",
       "    <tr>\n",
       "      <td>3551</td>\n",
       "      <td>1.0</td>\n",
       "      <td>dog soldiers doesn't transcend genre -- it emb...</td>\n",
       "    </tr>\n",
       "    <tr>\n",
       "      <td>3552</td>\n",
       "      <td>0.0</td>\n",
       "      <td>it uses the pain and violence of war as backgr...</td>\n",
       "    </tr>\n",
       "    <tr>\n",
       "      <td>3553</td>\n",
       "      <td>1.0</td>\n",
       "      <td>victor rosa is leguizamo's best movie work so ...</td>\n",
       "    </tr>\n",
       "  </tbody>\n",
       "</table>\n",
       "<p>3554 rows × 2 columns</p>\n",
       "</div>"
      ],
      "text/plain": [
       "      Sentiment                                               Text\n",
       "0           0.0  everything's serious , poetic , earnest and --...\n",
       "1           0.0  narratively , trouble every day is a plodding ...\n",
       "2           1.0  a truly wonderful tale combined with stunning ...\n",
       "3           1.0  jason patric and ray liotta make for one splen...\n",
       "4           0.0  haneke keeps us at arm's length . guided more ...\n",
       "...         ...                                                ...\n",
       "3549        0.0  it takes a strange kind of laziness to waste t...\n",
       "3550        0.0  an easy watch , except for the annoying demean...\n",
       "3551        1.0  dog soldiers doesn't transcend genre -- it emb...\n",
       "3552        0.0  it uses the pain and violence of war as backgr...\n",
       "3553        1.0  victor rosa is leguizamo's best movie work so ...\n",
       "\n",
       "[3554 rows x 2 columns]"
      ]
     },
     "execution_count": 134,
     "metadata": {},
     "output_type": "execute_result"
    }
   ],
   "source": [
    "df_train"
   ]
  },
  {
   "cell_type": "markdown",
   "metadata": {},
   "source": [
    "Se nos entregan dos conjuntos de datos, el conjunto de entrenamiento con 3554 opiniones, en donde 1770 opiniones son positivas y 1784 opiniones negativas. Al mismo tiempo existe un conjunto de test con 3554 opiniones, al igual que el conjunto anterior, repartiendose en 1751 opiniones positivas y 1803 negativas."
   ]
  },
  {
   "cell_type": "markdown",
   "metadata": {},
   "source": [
    "> b) Construya un conjunto de validación desde el conjunto de entrenamiento para seleccionar modelos. Decida el tamaño dada la cantidad de ejemplos que se tienen para entrenamiento."
   ]
  },
  {
   "cell_type": "code",
   "execution_count": 128,
   "metadata": {},
   "outputs": [],
   "source": [
    "from sklearn.model_selection import train_test_split\n",
    "df_train_text, df_val_text, labels_train, labels_val = train_test_split(df_train_text, labels_train, test_size= 0.2, random_state=0)"
   ]
  },
  {
   "cell_type": "markdown",
   "metadata": {},
   "source": [
    "Se crea un conjunto de validacion el cual se utilizara mas adelante, este utiliza el 20% de los datos del conjunto de entrenamiento mencionado anteriormente, lo que es equivalente a 711 opiniones."
   ]
  },
  {
   "cell_type": "markdown",
   "metadata": {},
   "source": [
    "> c) Realice un pre-procesamiento a los textos para normalizar un poco su estructura, para ello utilice el código de ejemplo a continuación, donde se pasa el texto a minúsculas (*lower-casing*), se reducen las mútliples letras, se eliminan palabras sin significados como artículos, pronombres y preposiciones (*stop word removal* [[3]](#refs)), además de pasar las palabras a su tronco léxico con la técnica de *lemmatizer* [[4]](#refs). Comente la importancia de un correcto pre-procesamiento en el domino de lenguaje natural."
   ]
  },
  {
   "cell_type": "code",
   "execution_count": 129,
   "metadata": {},
   "outputs": [],
   "source": [
    "import re, time\n",
    "from nltk.corpus import stopwords\n",
    "from nltk import WordNetLemmatizer, word_tokenize\n",
    "def base_word(word):\n",
    "    wordlemmatizer = WordNetLemmatizer()\n",
    "    return wordlemmatizer.lemmatize(word) \n",
    "def word_extractor(text):\n",
    "    commonwords = stopwords.words('english')\n",
    "    #commonwords.remove('not')\n",
    "    text = re.sub(r'([a-z])\\1+', r'\\1\\1',text) #substitute multiple letter by two\n",
    "    words = \"\"\n",
    "    wordtokens = [ base_word(word.lower()) for word in word_tokenize(text) ]\n",
    "    for word in wordtokens:\n",
    "        if word not in commonwords: #delete stopwords\n",
    "            words+=\" \"+word\n",
    "    return words\n",
    "... #try yourself\n",
    "word_extractor(\"I love to eat cake\")\n",
    "word_extractor(\"I love eating cake\")\n",
    "word_extractor(\"I loved eating the cake\")\n",
    "word_extractor(\"I do not love eating cake\")\n",
    "word_extractor(\"I don't love eating cake\")\n",
    "... #try yourself\n",
    "texts_train = [word_extractor(text) for text in df_train_text]\n",
    "texts_val = [word_extractor(text) for text in df_val_text]\n",
    "texts_test = [word_extractor(text) for text in df_test_text]\n",
    "\n",
    "\n",
    "original_train_set = np.concatenate((texts_train, texts_val))       #Formamos el arreglo de entrenamiento original\n",
    "original_labels_train = np.concatenate((labels_train, labels_val))\n",
    "\n"
   ]
  },
  {
   "cell_type": "markdown",
   "metadata": {},
   "source": [
    "Dada la complejidad de lenguaje natural humano, se busca que este sea lo mas similar al conocido por la computadora, en donde se eliminan y arreglan palabras las cuales podrian no ser correctamente entendidas por un programa y que no pertenecescan a un vocabulario comun (o del diccionario), es por esto que es necesario eliminar todo tipo de error tipografico que haya realizado el creador del comentario. Por otro lado, dado que se intenta eitquetar en oraciones positivas y negativas, se elimina todo aquello que no aporta semanticamente en la busqueda de positividad o negatividad en un comentario."
   ]
  },
  {
   "cell_type": "markdown",
   "metadata": {},
   "source": [
    "> d) Construya una representación vectorial a los textos de entrada para poder ser manejados y clasificados por los modelos de aprendizaje. Para ésto utilice el tipo de característica más común, que consiste en contar cuántas veces aparece cada términos/palabras en el texto, denominado **TF** (*term-frequency*). Para esto, se necesita contar con un vocabulario base, el cual se construirá a través de la unión de todas las palabras que observemos en los textos de entrenamiento ¿Cuáles son las palabras más frecuentes?"
   ]
  },
  {
   "cell_type": "code",
   "execution_count": 130,
   "metadata": {},
   "outputs": [],
   "source": [
    "import numpy as np\n",
    "from sklearn.feature_extraction.text import CountVectorizer\n",
    "vectorizer = CountVectorizer(ngram_range=(1, 1), binary=False) #TF representation\n",
    "vectorizer.fit(texts_train)\n",
    "\n",
    "features_train = vectorizer.transform(texts_train)\n",
    "\n",
    "\n",
    "features_val = vectorizer.transform(texts_val)\n",
    "\n",
    "\n",
    "features_test = vectorizer.transform(texts_test)\n",
    "\n",
    "original_features_train = vectorizer.transform(original_train_set)\n",
    "\n",
    "vocab = vectorizer.get_feature_names()\n",
    "dist=list(np.array(features_train.sum(axis=0)).reshape(-1,))"
   ]
  },
  {
   "cell_type": "markdown",
   "metadata": {},
   "source": [
    "> e) Para tener una visión distinta y entender mejor la representación vectorial realizada, visualice los datos en un plano 2D. Para ésto utilice la técnica **LSA** (*Latent Semantic Analysis*) [[5]](#refs) que a diferencia de PCA, **no centra** los datos antes de realizar la descomposicipon SVD, de ésta manera podrá visualizar el espacio semántico de \"conceptos\" latentes usados en la representación. Coloree cada texto en base a su clase ¿Qué indica lo observado? Comente e interprete los resultados"
   ]
  },
  {
   "cell_type": "code",
   "execution_count": 6,
   "metadata": {
    "scrolled": true
   },
   "outputs": [
    {
     "data": {
      "image/png": "[encoded data removed]",
      "text/plain": [
       "<Figure size 720x360 with 1 Axes>"
      ]
     },
     "metadata": {
      "needs_background": "light"
     },
     "output_type": "display_data"
    }
   ],
   "source": [
    "from sklearn.decomposition import TruncatedSVD\n",
    "\n",
    "model = TruncatedSVD(n_components=2)\n",
    "model.fit(features_train)\n",
    "x_plot = model.transform(features_train)\n",
    "plt.figure(figsize=(10,5))\n",
    "plt.scatter(x_plot[:,0], x_plot[:,1], c=labels_train)\n",
    "plt.show()\n"
   ]
  },
  {
   "cell_type": "markdown",
   "metadata": {},
   "source": [
    "> f) Entrene un modelo de Regresión Logística Regularizado (utilizando como penalizador la norma $l_2$). Varíe el parámetro de regularización $C$, en potencias de 10, midiendo el error de predicción obtenido sobre los datos de entrenamiento y validación, construya un gráfico que muestre la variación de ambos errores respecto al parámetro $C$. Explique el significado y valor esperado del parámetro de regularización."
   ]
  },
  {
   "cell_type": "code",
   "execution_count": 127,
   "metadata": {
    "scrolled": true
   },
   "outputs": [
    {
     "name": "stdout",
     "output_type": "stream",
     "text": [
      "Param C=  0.0001\n"
     ]
    },
    {
     "ename": "ValueError",
     "evalue": "Found input variables with inconsistent numbers of samples: [5550, 711]",
     "output_type": "error",
     "traceback": [
      "\u001b[1;31m---------------------------------------------------------------------------\u001b[0m",
      "\u001b[1;31mValueError\u001b[0m                                Traceback (most recent call last)",
      "\u001b[1;32m<ipython-input-127-f2cfd7458ba1>\u001b[0m in \u001b[0;36m<module>\u001b[1;34m\u001b[0m\n\u001b[0;32m     17\u001b[0m \u001b[1;33m\u001b[0m\u001b[0m\n\u001b[0;32m     18\u001b[0m \u001b[1;32mfor\u001b[0m \u001b[0mi\u001b[0m \u001b[1;32min\u001b[0m \u001b[0mCs\u001b[0m\u001b[1;33m:\u001b[0m\u001b[1;33m\u001b[0m\u001b[0m\n\u001b[1;32m---> 19\u001b[1;33m     \u001b[0mmodel\u001b[0m\u001b[1;33m,\u001b[0m \u001b[0mtrain_acc\u001b[0m\u001b[1;33m,\u001b[0m \u001b[0mtest_acc\u001b[0m \u001b[1;33m=\u001b[0m \u001b[0mdo_LOGIT\u001b[0m\u001b[1;33m(\u001b[0m\u001b[0mx\u001b[0m \u001b[1;33m=\u001b[0m \u001b[0mfeatures_train\u001b[0m\u001b[1;33m,\u001b[0m \u001b[0my\u001b[0m \u001b[1;33m=\u001b[0m \u001b[0mlabels_train\u001b[0m\u001b[1;33m,\u001b[0m \u001b[0mxv\u001b[0m \u001b[1;33m=\u001b[0m \u001b[0mfeatures_val\u001b[0m\u001b[1;33m,\u001b[0m \u001b[0myv\u001b[0m \u001b[1;33m=\u001b[0m \u001b[0mlabels_val\u001b[0m\u001b[1;33m,\u001b[0m \u001b[0mparam\u001b[0m \u001b[1;33m=\u001b[0m \u001b[0mi\u001b[0m\u001b[1;33m)\u001b[0m\u001b[1;33m\u001b[0m\u001b[0m\n\u001b[0m\u001b[0;32m     20\u001b[0m \u001b[1;33m\u001b[0m\u001b[0m\n\u001b[0;32m     21\u001b[0m     \u001b[0mLogit_models\u001b[0m\u001b[1;33m.\u001b[0m\u001b[0mappend\u001b[0m\u001b[1;33m(\u001b[0m\u001b[0mmodel\u001b[0m\u001b[1;33m)\u001b[0m\u001b[1;33m\u001b[0m\u001b[0m\n",
      "\u001b[1;32m<ipython-input-127-f2cfd7458ba1>\u001b[0m in \u001b[0;36mdo_LOGIT\u001b[1;34m(x, y, xv, yv, param)\u001b[0m\n\u001b[0;32m      7\u001b[0m     \u001b[0mmodel\u001b[0m\u001b[1;33m.\u001b[0m\u001b[0mfit\u001b[0m\u001b[1;33m(\u001b[0m\u001b[0mx\u001b[0m\u001b[1;33m,\u001b[0m\u001b[0my\u001b[0m\u001b[1;33m)\u001b[0m\u001b[1;33m\u001b[0m\u001b[0m\n\u001b[0;32m      8\u001b[0m     \u001b[0mtrain_acc\u001b[0m \u001b[1;33m=\u001b[0m \u001b[0mmodel\u001b[0m\u001b[1;33m.\u001b[0m\u001b[0mscore\u001b[0m\u001b[1;33m(\u001b[0m\u001b[0mx\u001b[0m\u001b[1;33m,\u001b[0m\u001b[0my\u001b[0m\u001b[1;33m)\u001b[0m\u001b[1;33m\u001b[0m\u001b[0m\n\u001b[1;32m----> 9\u001b[1;33m     \u001b[0mtest_acc\u001b[0m \u001b[1;33m=\u001b[0m \u001b[0mmodel\u001b[0m\u001b[1;33m.\u001b[0m\u001b[0mscore\u001b[0m\u001b[1;33m(\u001b[0m\u001b[0mxv\u001b[0m\u001b[1;33m,\u001b[0m\u001b[0myv\u001b[0m\u001b[1;33m)\u001b[0m\u001b[1;33m\u001b[0m\u001b[0m\n\u001b[0m\u001b[0;32m     10\u001b[0m     \u001b[1;32mreturn\u001b[0m \u001b[0mmodel\u001b[0m\u001b[1;33m,\u001b[0m \u001b[0mtrain_acc\u001b[0m\u001b[1;33m,\u001b[0m \u001b[0mtest_acc\u001b[0m\u001b[1;33m\u001b[0m\u001b[0m\n\u001b[0;32m     11\u001b[0m \u001b[0mCs\u001b[0m \u001b[1;33m=\u001b[0m \u001b[1;33m[\u001b[0m\u001b[1;36m10\u001b[0m\u001b[1;33m**\u001b[0m\u001b[0mi\u001b[0m \u001b[1;32mfor\u001b[0m \u001b[0mi\u001b[0m \u001b[1;32min\u001b[0m \u001b[0mnp\u001b[0m\u001b[1;33m.\u001b[0m\u001b[0marange\u001b[0m\u001b[1;33m(\u001b[0m\u001b[1;33m-\u001b[0m\u001b[1;36m4.0\u001b[0m\u001b[1;33m,\u001b[0m \u001b[1;36m4.0\u001b[0m\u001b[1;33m)\u001b[0m\u001b[1;33m]\u001b[0m\u001b[1;33m\u001b[0m\u001b[0m\n",
      "\u001b[1;32m~\\Anaconda3\\lib\\site-packages\\sklearn\\base.py\u001b[0m in \u001b[0;36mscore\u001b[1;34m(self, X, y, sample_weight)\u001b[0m\n\u001b[0;32m    355\u001b[0m         \"\"\"\n\u001b[0;32m    356\u001b[0m         \u001b[1;32mfrom\u001b[0m \u001b[1;33m.\u001b[0m\u001b[0mmetrics\u001b[0m \u001b[1;32mimport\u001b[0m \u001b[0maccuracy_score\u001b[0m\u001b[1;33m\u001b[0m\u001b[0m\n\u001b[1;32m--> 357\u001b[1;33m         \u001b[1;32mreturn\u001b[0m \u001b[0maccuracy_score\u001b[0m\u001b[1;33m(\u001b[0m\u001b[0my\u001b[0m\u001b[1;33m,\u001b[0m \u001b[0mself\u001b[0m\u001b[1;33m.\u001b[0m\u001b[0mpredict\u001b[0m\u001b[1;33m(\u001b[0m\u001b[0mX\u001b[0m\u001b[1;33m)\u001b[0m\u001b[1;33m,\u001b[0m \u001b[0msample_weight\u001b[0m\u001b[1;33m=\u001b[0m\u001b[0msample_weight\u001b[0m\u001b[1;33m)\u001b[0m\u001b[1;33m\u001b[0m\u001b[0m\n\u001b[0m\u001b[0;32m    358\u001b[0m \u001b[1;33m\u001b[0m\u001b[0m\n\u001b[0;32m    359\u001b[0m \u001b[1;33m\u001b[0m\u001b[0m\n",
      "\u001b[1;32m~\\Anaconda3\\lib\\site-packages\\sklearn\\metrics\\classification.py\u001b[0m in \u001b[0;36maccuracy_score\u001b[1;34m(y_true, y_pred, normalize, sample_weight)\u001b[0m\n\u001b[0;32m    174\u001b[0m \u001b[1;33m\u001b[0m\u001b[0m\n\u001b[0;32m    175\u001b[0m     \u001b[1;31m# Compute accuracy for each possible representation\u001b[0m\u001b[1;33m\u001b[0m\u001b[1;33m\u001b[0m\u001b[0m\n\u001b[1;32m--> 176\u001b[1;33m     \u001b[0my_type\u001b[0m\u001b[1;33m,\u001b[0m \u001b[0my_true\u001b[0m\u001b[1;33m,\u001b[0m \u001b[0my_pred\u001b[0m \u001b[1;33m=\u001b[0m \u001b[0m_check_targets\u001b[0m\u001b[1;33m(\u001b[0m\u001b[0my_true\u001b[0m\u001b[1;33m,\u001b[0m \u001b[0my_pred\u001b[0m\u001b[1;33m)\u001b[0m\u001b[1;33m\u001b[0m\u001b[0m\n\u001b[0m\u001b[0;32m    177\u001b[0m     \u001b[0mcheck_consistent_length\u001b[0m\u001b[1;33m(\u001b[0m\u001b[0my_true\u001b[0m\u001b[1;33m,\u001b[0m \u001b[0my_pred\u001b[0m\u001b[1;33m,\u001b[0m \u001b[0msample_weight\u001b[0m\u001b[1;33m)\u001b[0m\u001b[1;33m\u001b[0m\u001b[0m\n\u001b[0;32m    178\u001b[0m     \u001b[1;32mif\u001b[0m \u001b[0my_type\u001b[0m\u001b[1;33m.\u001b[0m\u001b[0mstartswith\u001b[0m\u001b[1;33m(\u001b[0m\u001b[1;34m'multilabel'\u001b[0m\u001b[1;33m)\u001b[0m\u001b[1;33m:\u001b[0m\u001b[1;33m\u001b[0m\u001b[0m\n",
      "\u001b[1;32m~\\Anaconda3\\lib\\site-packages\\sklearn\\metrics\\classification.py\u001b[0m in \u001b[0;36m_check_targets\u001b[1;34m(y_true, y_pred)\u001b[0m\n\u001b[0;32m     69\u001b[0m     \u001b[0my_pred\u001b[0m \u001b[1;33m:\u001b[0m \u001b[0marray\u001b[0m \u001b[1;32mor\u001b[0m \u001b[0mindicator\u001b[0m \u001b[0mmatrix\u001b[0m\u001b[1;33m\u001b[0m\u001b[0m\n\u001b[0;32m     70\u001b[0m     \"\"\"\n\u001b[1;32m---> 71\u001b[1;33m     \u001b[0mcheck_consistent_length\u001b[0m\u001b[1;33m(\u001b[0m\u001b[0my_true\u001b[0m\u001b[1;33m,\u001b[0m \u001b[0my_pred\u001b[0m\u001b[1;33m)\u001b[0m\u001b[1;33m\u001b[0m\u001b[0m\n\u001b[0m\u001b[0;32m     72\u001b[0m     \u001b[0mtype_true\u001b[0m \u001b[1;33m=\u001b[0m \u001b[0mtype_of_target\u001b[0m\u001b[1;33m(\u001b[0m\u001b[0my_true\u001b[0m\u001b[1;33m)\u001b[0m\u001b[1;33m\u001b[0m\u001b[0m\n\u001b[0;32m     73\u001b[0m     \u001b[0mtype_pred\u001b[0m \u001b[1;33m=\u001b[0m \u001b[0mtype_of_target\u001b[0m\u001b[1;33m(\u001b[0m\u001b[0my_pred\u001b[0m\u001b[1;33m)\u001b[0m\u001b[1;33m\u001b[0m\u001b[0m\n",
      "\u001b[1;32m~\\Anaconda3\\lib\\site-packages\\sklearn\\utils\\validation.py\u001b[0m in \u001b[0;36mcheck_consistent_length\u001b[1;34m(*arrays)\u001b[0m\n\u001b[0;32m    203\u001b[0m     \u001b[1;32mif\u001b[0m \u001b[0mlen\u001b[0m\u001b[1;33m(\u001b[0m\u001b[0muniques\u001b[0m\u001b[1;33m)\u001b[0m \u001b[1;33m>\u001b[0m \u001b[1;36m1\u001b[0m\u001b[1;33m:\u001b[0m\u001b[1;33m\u001b[0m\u001b[0m\n\u001b[0;32m    204\u001b[0m         raise ValueError(\"Found input variables with inconsistent numbers of\"\n\u001b[1;32m--> 205\u001b[1;33m                          \" samples: %r\" % [int(l) for l in lengths])\n\u001b[0m\u001b[0;32m    206\u001b[0m \u001b[1;33m\u001b[0m\u001b[0m\n\u001b[0;32m    207\u001b[0m \u001b[1;33m\u001b[0m\u001b[0m\n",
      "\u001b[1;31mValueError\u001b[0m: Found input variables with inconsistent numbers of samples: [5550, 711]"
     ]
    }
   ],
   "source": [
    "from sklearn.linear_model import LogisticRegression\n",
    "\n",
    "def do_LOGIT(x,y,xv,yv, param):\n",
    "    print(\"Param C= \",param)\n",
    "    model= LogisticRegression(solver = 'liblinear')\n",
    "    model.set_params(C=param)\n",
    "    model.fit(x,y)\n",
    "    train_acc = model.score(x,y)\n",
    "    test_acc = model.score(xv,yv)\n",
    "    return model, train_acc, test_acc\n",
    "Cs = [10**i for i in np.arange(-4.0, 4.0)]\n",
    "\n",
    "\n",
    "Logit_models = []\n",
    "logit_train_accs =[]\n",
    "logit_test_accs =[]\n",
    "\n",
    "for i in Cs:\n",
    "    model, train_acc, test_acc = do_LOGIT(x = features_train, y = labels_train, xv = features_val, yv = labels_val, param = i)\n",
    "    \n",
    "    Logit_models.append(model)\n",
    "    logit_train_accs.append(train_acc)\n",
    "    logit_test_accs.append(test_acc)\n",
    "\n",
    "    print(\"Train_acc = \", train_acc)\n",
    "    print(\"Test_acc = \", test_acc)\n",
    "    \n",
    "    print('*' * 100)\n",
    "     \n",
    "plt.plot(np.arange(-4.0, 4.0), logit_train_accs)\n",
    "plt.plot(np.arange(-4.0, 4.0), logit_test_accs)\n"
   ]
  },
  {
   "cell_type": "markdown",
   "metadata": {},
   "source": [
    "> g) Entrene una Máquina de Soporte Vectorial (SVM) con distintos kernels. Similar a lo anterior, construya un gráfico que muestre la variación de ambos errores respecto al parámetro de regularización $C$ para cada tipo de kernel que experimente. Explique el significado y valor esperado de los parámetros en este modelo."
   ]
  },
  {
   "cell_type": "code",
   "execution_count": 8,
   "metadata": {
    "scrolled": true
   },
   "outputs": [
    {
     "name": "stdout",
     "output_type": "stream",
     "text": [
      "Param C=  0.0001 Kernel=  linear\n",
      "Train_acc =  0.5001758705592684\n",
      "Test_acc =  0.509142053445851\n",
      "****************************************************************************************************\n",
      "Param C=  0.001 Kernel=  linear\n",
      "Train_acc =  0.5001758705592684\n",
      "Test_acc =  0.509142053445851\n",
      "****************************************************************************************************\n",
      "Param C=  0.01 Kernel=  linear\n",
      "Train_acc =  0.7502638058389026\n",
      "Test_acc =  0.6371308016877637\n",
      "****************************************************************************************************\n",
      "Param C=  0.1 Kernel=  linear\n",
      "Train_acc =  0.9497010200492437\n",
      "Test_acc =  0.6919831223628692\n",
      "****************************************************************************************************\n",
      "Param C=  1.0 Kernel=  linear\n",
      "Train_acc =  0.9989447766443897\n",
      "Test_acc =  0.6891701828410689\n",
      "****************************************************************************************************\n",
      "Param C=  10.0 Kernel=  linear\n",
      "Train_acc =  1.0\n",
      "Test_acc =  0.6877637130801688\n",
      "****************************************************************************************************\n",
      "Param C=  100.0 Kernel=  linear\n",
      "Train_acc =  1.0\n",
      "Test_acc =  0.6877637130801688\n",
      "****************************************************************************************************\n",
      "Param C=  1000.0 Kernel=  linear\n",
      "Train_acc =  1.0\n",
      "Test_acc =  0.6877637130801688\n",
      "****************************************************************************************************\n"
     ]
    },
    {
     "data": {
      "text/plain": [
       "[<matplotlib.lines.Line2D at 0x2857887e908>]"
      ]
     },
     "execution_count": 8,
     "metadata": {},
     "output_type": "execute_result"
    },
    {
     "data": {
      "image/png": "[encoded data removed]",
      "text/plain": [
       "<Figure size 432x288 with 1 Axes>"
      ]
     },
     "metadata": {
      "needs_background": "light"
     },
     "output_type": "display_data"
    }
   ],
   "source": [
    "from sklearn.svm import SVC as SVM #SVC is for classification\n",
    "def do_SVM(x,y,xv,yv, param, kernel='linear'):\n",
    "    print(\"Param C= \",param, 'Kernel= ', kernel)\n",
    "    model= SVM()\n",
    "    model.set_params(C=param,kernel=kernel) #try rbf and linear at least\n",
    "    model.fit(x,y)\n",
    "    train_acc = model.score(x,y)\n",
    "    test_acc = model.score(xv,yv)\n",
    "    return model, train_acc, test_acc\n",
    "Cs = [10**i for i in np.arange(-4.0,4.0)]\n",
    "\n",
    "SVM_models = []\n",
    "SVM_train_accs =[]\n",
    "SVM_test_accs =[]\n",
    "\n",
    "for i in Cs:\n",
    "    model, train_acc, test_acc = do_SVM(x = features_train, y = labels_train, xv = features_val, yv = labels_val, param = i)\n",
    "    \n",
    "    SVM_models.append(model)\n",
    "    SVM_train_accs.append(train_acc)\n",
    "    SVM_test_accs.append(test_acc)\n",
    "    \n",
    "    print(\"Train_acc = \", train_acc)\n",
    "    print(\"Test_acc = \", test_acc)\n",
    "    \n",
    "    print('*' * 100)\n",
    "\n",
    "plt.plot(np.arange(-4.0, 4.0), SVM_train_accs)\n",
    "plt.plot(np.arange(-4.0, 4.0), SVM_test_accs)"
   ]
  },
  {
   "cell_type": "markdown",
   "metadata": {},
   "source": [
    "> h) Utilice el algoritmo de similaridad k-NN para intentar resolver el problema. Varíe el parámetro de los vecinos $k$ en un rango que estime conveniente y realice graficos de errores como en las preguntas anteriores. Comente sobre el valor esperado de este parámetro.\n"
   ]
  },
  {
   "cell_type": "code",
   "execution_count": 9,
   "metadata": {
    "scrolled": true
   },
   "outputs": [
    {
     "name": "stdout",
     "output_type": "stream",
     "text": [
      "Param K=  1\n",
      "Param K=  41\n",
      "Param K=  81\n",
      "Param K=  121\n",
      "Param K=  161\n",
      "Param K=  201\n",
      "Param K=  241\n",
      "Param K=  281\n",
      "Param K=  321\n",
      "Param K=  361\n",
      "Param K=  401\n",
      "Param K=  441\n",
      "Param K=  481\n",
      "Param K=  521\n",
      "Param K=  561\n",
      "Param K=  601\n",
      "Param K=  641\n",
      "Param K=  681\n",
      "Param K=  721\n",
      "Param K=  761\n",
      "Param K=  801\n",
      "Param K=  841\n",
      "Param K=  881\n",
      "Param K=  921\n",
      "Param K=  961\n",
      "Param K=  1001\n",
      "Param K=  1041\n",
      "Param K=  1081\n",
      "Param K=  1121\n",
      "Param K=  1161\n",
      "Param K=  1201\n",
      "Param K=  1241\n",
      "Param K=  1281\n",
      "Param K=  1321\n",
      "Param K=  1361\n",
      "Param K=  1401\n",
      "Param K=  1441\n",
      "Param K=  1481\n",
      "Param K=  1521\n",
      "Param K=  1561\n",
      "Param K=  1601\n",
      "Param K=  1641\n",
      "Param K=  1681\n",
      "Param K=  1721\n",
      "Param K=  1761\n",
      "Param K=  1801\n",
      "Param K=  1841\n",
      "Param K=  1881\n",
      "Param K=  1921\n",
      "Param K=  1961\n",
      "Param K=  2001\n",
      "Param K=  2041\n",
      "Param K=  2081\n",
      "Param K=  2121\n",
      "Param K=  2161\n",
      "Param K=  2201\n",
      "Param K=  2241\n",
      "Param K=  2281\n",
      "Param K=  2321\n",
      "Param K=  2361\n",
      "Param K=  2401\n",
      "Param K=  2441\n",
      "Param K=  2481\n",
      "Param K=  2521\n",
      "Param K=  2561\n",
      "Param K=  2601\n",
      "Param K=  2641\n",
      "Param K=  2681\n",
      "Param K=  2721\n",
      "Param K=  2761\n",
      "Param K=  2801\n",
      "Param K=  2841\n"
     ]
    },
    {
     "data": {
      "text/plain": [
       "[<matplotlib.lines.Line2D at 0x2857e412550>]"
      ]
     },
     "execution_count": 9,
     "metadata": {},
     "output_type": "execute_result"
    },
    {
     "data": {
      "image/png": "[encoded data removed]",
      "text/plain": [
       "<Figure size 432x288 with 1 Axes>"
      ]
     },
     "metadata": {
      "needs_background": "light"
     },
     "output_type": "display_data"
    }
   ],
   "source": [
    "from sklearn.neighbors import KNeighborsClassifier\n",
    "def do_KNN(x,y,xv,yv, param):\n",
    "    model = KNeighborsClassifier()\n",
    "    print(\"Param K= \",param)\n",
    "    model.set_params(n_neighbors=param)\n",
    "    model.fit(x,y)\n",
    "    train_acc = model.score(x,y)\n",
    "    test_acc = model.score(xv,yv)\n",
    "    return model, train_acc, test_acc\n",
    "Ks = np.arange(1, features_train.shape[0], 40)\n",
    "\n",
    "KNN_train_accs =[]\n",
    "KNN_test_accs =[]\n",
    "\n",
    "for i in Ks:\n",
    "    model, train_acc, test_acc = do_KNN(x = features_train, y = labels_train, xv = features_val, yv = labels_val, param = i)\n",
    "    KNN_train_accs.append(train_acc)\n",
    "    KNN_test_accs.append(test_acc)\n",
    "    \n",
    "plt.plot(Ks, KNN_train_accs)\n",
    "plt.plot(Ks, KNN_test_accs)"
   ]
  },
  {
   "cell_type": "markdown",
   "metadata": {},
   "source": [
    "> i) Entrene un Arbol de Decisión para resolver el problema. Varíe los parámetros de *max depth* y *min samples split* de manera separada, constuyendo gráficos de error respecto a estos parámetros. *Los valores que se presentan son sugerencias, no es necesario utilizar los mismos*. Comente sobre la diferencia entre la selección de estos dos parámetros.\n"
   ]
  },
  {
   "cell_type": "code",
   "execution_count": 10,
   "metadata": {
    "scrolled": true
   },
   "outputs": [
    {
     "name": "stdout",
     "output_type": "stream",
     "text": [
      "Param Max-D=  1 Min-samples-S=  20\n",
      "Param Max-D=  151 Min-samples-S=  20\n",
      "Param Max-D=  301 Min-samples-S=  20\n",
      "Param Max-D=  451 Min-samples-S=  20\n",
      "Param Max-D=  601 Min-samples-S=  20\n",
      "Param Max-D=  751 Min-samples-S=  20\n",
      "Param Max-D=  901 Min-samples-S=  20\n",
      "Param Max-D=  1051 Min-samples-S=  20\n",
      "Param Max-D=  1201 Min-samples-S=  20\n",
      "Param Max-D=  1351 Min-samples-S=  20\n",
      "Param Max-D=  1501 Min-samples-S=  20\n",
      "Param Max-D=  1651 Min-samples-S=  20\n",
      "Param Max-D=  1801 Min-samples-S=  20\n",
      "Param Max-D=  1951 Min-samples-S=  20\n",
      "Param Max-D=  2101 Min-samples-S=  20\n",
      "Param Max-D=  2251 Min-samples-S=  20\n",
      "Param Max-D=  2401 Min-samples-S=  20\n",
      "Param Max-D=  2551 Min-samples-S=  20\n",
      "Param Max-D=  2701 Min-samples-S=  20\n",
      "Param Max-D=  2851 Min-samples-S=  20\n",
      "Param Max-D=  3001 Min-samples-S=  20\n",
      "Param Max-D=  3151 Min-samples-S=  20\n",
      "Param Max-D=  3301 Min-samples-S=  20\n",
      "Param Max-D=  3451 Min-samples-S=  20\n",
      "Param Max-D=  3601 Min-samples-S=  20\n",
      "Param Max-D=  3751 Min-samples-S=  20\n",
      "Param Max-D=  3901 Min-samples-S=  20\n",
      "Param Max-D=  4051 Min-samples-S=  20\n",
      "Param Max-D=  4201 Min-samples-S=  20\n",
      "Param Max-D=  4351 Min-samples-S=  20\n",
      "Param Max-D=  4501 Min-samples-S=  20\n",
      "Param Max-D=  4651 Min-samples-S=  20\n",
      "Param Max-D=  4801 Min-samples-S=  20\n",
      "Param Max-D=  4951 Min-samples-S=  20\n",
      "Param Max-D=  5101 Min-samples-S=  20\n",
      "Param Max-D=  5251 Min-samples-S=  20\n",
      "Param Max-D=  5401 Min-samples-S=  20\n",
      "Param Max-D=  5551 Min-samples-S=  20\n",
      "Param Max-D=  5701 Min-samples-S=  20\n",
      "Param Max-D=  5851 Min-samples-S=  20\n",
      "Param Max-D=  6001 Min-samples-S=  20\n",
      "Param Max-D=  6151 Min-samples-S=  20\n",
      "Param Max-D=  6301 Min-samples-S=  20\n",
      "Param Max-D=  6451 Min-samples-S=  20\n",
      "Param Max-D=  6601 Min-samples-S=  20\n",
      "Param Max-D=  6751 Min-samples-S=  20\n",
      "Param Max-D=  6901 Min-samples-S=  20\n",
      "Param Max-D=  7051 Min-samples-S=  20\n",
      "Param Max-D=  7201 Min-samples-S=  20\n",
      "Param Max-D=  7351 Min-samples-S=  20\n",
      "Param Max-D=  7501 Min-samples-S=  20\n",
      "Param Max-D=  7651 Min-samples-S=  20\n",
      "Param Max-D=  7801 Min-samples-S=  20\n",
      "Param Max-D=  7951 Min-samples-S=  20\n",
      "Param Max-D=  8101 Min-samples-S=  20\n",
      "Param Max-D=  8251 Min-samples-S=  20\n",
      "Param Max-D=  8401 Min-samples-S=  20\n"
     ]
    },
    {
     "data": {
      "text/plain": [
       "[<matplotlib.lines.Line2D at 0x2857f47ef98>]"
      ]
     },
     "execution_count": 10,
     "metadata": {},
     "output_type": "execute_result"
    },
    {
     "data": {
      "image/png": "[encoded data removed]",
      "text/plain": [
       "<Figure size 432x288 with 1 Axes>"
      ]
     },
     "metadata": {
      "needs_background": "light"
     },
     "output_type": "display_data"
    }
   ],
   "source": [
    "from sklearn.tree import DecisionTreeClassifier as Tree\n",
    "import ipywidgets as widgets\n",
    "from ipywidgets import interact\n",
    "\n",
    "def do_Tree(x,y,xv,yv, param_d=None, param_m=2):\n",
    "    model= Tree()\n",
    "    print(\"Param Max-D= \",param_d, 'Min-samples-S= ', param_m)\n",
    "    model.set_params(max_depth=param_d, min_samples_split=param_m) \n",
    "    model.fit(x,y)\n",
    "    train_acc = model.score(x,y)\n",
    "    test_acc = model.score(xv,yv)\n",
    "    return model, train_acc, test_acc\n",
    "Depths = np.arange(1, features_train.shape[1], 150 ) #choose steps\n",
    "SamplesS = np.arange(2, features_train.shape[0] , 10 ) #choose steps\n",
    "\n",
    "CT_train_accs =[]\n",
    "CT_test_accs =[]\n",
    "\n",
    "for i in Depths:\n",
    "    model, train_acc, test_acc = do_Tree(x = features_train, y = labels_train, xv = features_val, yv = labels_val, param_d = i, param_m = 20)\n",
    "    CT_train_accs.append(train_acc)\n",
    "    CT_test_accs.append(test_acc)\n",
    "\n",
    "plt.plot(Depths, CT_train_accs)\n",
    "plt.plot(Depths, CT_test_accs)"
   ]
  },
  {
   "cell_type": "code",
   "execution_count": 11,
   "metadata": {
    "scrolled": true
   },
   "outputs": [
    {
     "name": "stdout",
     "output_type": "stream",
     "text": [
      "Param Max-D=  100 Min-samples-S=  2\n",
      "Param Max-D=  100 Min-samples-S=  12\n",
      "Param Max-D=  100 Min-samples-S=  22\n",
      "Param Max-D=  100 Min-samples-S=  32\n",
      "Param Max-D=  100 Min-samples-S=  42\n",
      "Param Max-D=  100 Min-samples-S=  52\n",
      "Param Max-D=  100 Min-samples-S=  62\n",
      "Param Max-D=  100 Min-samples-S=  72\n",
      "Param Max-D=  100 Min-samples-S=  82\n",
      "Param Max-D=  100 Min-samples-S=  92\n",
      "Param Max-D=  100 Min-samples-S=  102\n",
      "Param Max-D=  100 Min-samples-S=  112\n",
      "Param Max-D=  100 Min-samples-S=  122\n",
      "Param Max-D=  100 Min-samples-S=  132\n",
      "Param Max-D=  100 Min-samples-S=  142\n",
      "Param Max-D=  100 Min-samples-S=  152\n",
      "Param Max-D=  100 Min-samples-S=  162\n",
      "Param Max-D=  100 Min-samples-S=  172\n",
      "Param Max-D=  100 Min-samples-S=  182\n",
      "Param Max-D=  100 Min-samples-S=  192\n",
      "Param Max-D=  100 Min-samples-S=  202\n",
      "Param Max-D=  100 Min-samples-S=  212\n",
      "Param Max-D=  100 Min-samples-S=  222\n",
      "Param Max-D=  100 Min-samples-S=  232\n",
      "Param Max-D=  100 Min-samples-S=  242\n",
      "Param Max-D=  100 Min-samples-S=  252\n",
      "Param Max-D=  100 Min-samples-S=  262\n",
      "Param Max-D=  100 Min-samples-S=  272\n",
      "Param Max-D=  100 Min-samples-S=  282\n",
      "Param Max-D=  100 Min-samples-S=  292\n",
      "Param Max-D=  100 Min-samples-S=  302\n",
      "Param Max-D=  100 Min-samples-S=  312\n",
      "Param Max-D=  100 Min-samples-S=  322\n",
      "Param Max-D=  100 Min-samples-S=  332\n",
      "Param Max-D=  100 Min-samples-S=  342\n",
      "Param Max-D=  100 Min-samples-S=  352\n",
      "Param Max-D=  100 Min-samples-S=  362\n",
      "Param Max-D=  100 Min-samples-S=  372\n",
      "Param Max-D=  100 Min-samples-S=  382\n",
      "Param Max-D=  100 Min-samples-S=  392\n",
      "Param Max-D=  100 Min-samples-S=  402\n",
      "Param Max-D=  100 Min-samples-S=  412\n",
      "Param Max-D=  100 Min-samples-S=  422\n",
      "Param Max-D=  100 Min-samples-S=  432\n",
      "Param Max-D=  100 Min-samples-S=  442\n",
      "Param Max-D=  100 Min-samples-S=  452\n",
      "Param Max-D=  100 Min-samples-S=  462\n",
      "Param Max-D=  100 Min-samples-S=  472\n",
      "Param Max-D=  100 Min-samples-S=  482\n",
      "Param Max-D=  100 Min-samples-S=  492\n",
      "Param Max-D=  100 Min-samples-S=  502\n",
      "Param Max-D=  100 Min-samples-S=  512\n",
      "Param Max-D=  100 Min-samples-S=  522\n",
      "Param Max-D=  100 Min-samples-S=  532\n",
      "Param Max-D=  100 Min-samples-S=  542\n",
      "Param Max-D=  100 Min-samples-S=  552\n",
      "Param Max-D=  100 Min-samples-S=  562\n",
      "Param Max-D=  100 Min-samples-S=  572\n",
      "Param Max-D=  100 Min-samples-S=  582\n",
      "Param Max-D=  100 Min-samples-S=  592\n",
      "Param Max-D=  100 Min-samples-S=  602\n",
      "Param Max-D=  100 Min-samples-S=  612\n",
      "Param Max-D=  100 Min-samples-S=  622\n",
      "Param Max-D=  100 Min-samples-S=  632\n",
      "Param Max-D=  100 Min-samples-S=  642\n",
      "Param Max-D=  100 Min-samples-S=  652\n",
      "Param Max-D=  100 Min-samples-S=  662\n",
      "Param Max-D=  100 Min-samples-S=  672\n",
      "Param Max-D=  100 Min-samples-S=  682\n",
      "Param Max-D=  100 Min-samples-S=  692\n",
      "Param Max-D=  100 Min-samples-S=  702\n",
      "Param Max-D=  100 Min-samples-S=  712\n",
      "Param Max-D=  100 Min-samples-S=  722\n",
      "Param Max-D=  100 Min-samples-S=  732\n",
      "Param Max-D=  100 Min-samples-S=  742\n",
      "Param Max-D=  100 Min-samples-S=  752\n",
      "Param Max-D=  100 Min-samples-S=  762\n",
      "Param Max-D=  100 Min-samples-S=  772\n",
      "Param Max-D=  100 Min-samples-S=  782\n",
      "Param Max-D=  100 Min-samples-S=  792\n",
      "Param Max-D=  100 Min-samples-S=  802\n",
      "Param Max-D=  100 Min-samples-S=  812\n",
      "Param Max-D=  100 Min-samples-S=  822\n",
      "Param Max-D=  100 Min-samples-S=  832\n",
      "Param Max-D=  100 Min-samples-S=  842\n",
      "Param Max-D=  100 Min-samples-S=  852\n",
      "Param Max-D=  100 Min-samples-S=  862\n",
      "Param Max-D=  100 Min-samples-S=  872\n",
      "Param Max-D=  100 Min-samples-S=  882\n",
      "Param Max-D=  100 Min-samples-S=  892\n",
      "Param Max-D=  100 Min-samples-S=  902\n",
      "Param Max-D=  100 Min-samples-S=  912\n",
      "Param Max-D=  100 Min-samples-S=  922\n",
      "Param Max-D=  100 Min-samples-S=  932\n",
      "Param Max-D=  100 Min-samples-S=  942\n",
      "Param Max-D=  100 Min-samples-S=  952\n",
      "Param Max-D=  100 Min-samples-S=  962\n",
      "Param Max-D=  100 Min-samples-S=  972\n",
      "Param Max-D=  100 Min-samples-S=  982\n",
      "Param Max-D=  100 Min-samples-S=  992\n",
      "Param Max-D=  100 Min-samples-S=  1002\n",
      "Param Max-D=  100 Min-samples-S=  1012\n",
      "Param Max-D=  100 Min-samples-S=  1022\n",
      "Param Max-D=  100 Min-samples-S=  1032\n",
      "Param Max-D=  100 Min-samples-S=  1042\n",
      "Param Max-D=  100 Min-samples-S=  1052\n",
      "Param Max-D=  100 Min-samples-S=  1062\n",
      "Param Max-D=  100 Min-samples-S=  1072\n",
      "Param Max-D=  100 Min-samples-S=  1082\n",
      "Param Max-D=  100 Min-samples-S=  1092\n",
      "Param Max-D=  100 Min-samples-S=  1102\n",
      "Param Max-D=  100 Min-samples-S=  1112\n",
      "Param Max-D=  100 Min-samples-S=  1122\n",
      "Param Max-D=  100 Min-samples-S=  1132\n",
      "Param Max-D=  100 Min-samples-S=  1142\n",
      "Param Max-D=  100 Min-samples-S=  1152\n",
      "Param Max-D=  100 Min-samples-S=  1162\n",
      "Param Max-D=  100 Min-samples-S=  1172\n",
      "Param Max-D=  100 Min-samples-S=  1182\n",
      "Param Max-D=  100 Min-samples-S=  1192\n",
      "Param Max-D=  100 Min-samples-S=  1202\n",
      "Param Max-D=  100 Min-samples-S=  1212\n",
      "Param Max-D=  100 Min-samples-S=  1222\n",
      "Param Max-D=  100 Min-samples-S=  1232\n",
      "Param Max-D=  100 Min-samples-S=  1242\n",
      "Param Max-D=  100 Min-samples-S=  1252\n",
      "Param Max-D=  100 Min-samples-S=  1262\n",
      "Param Max-D=  100 Min-samples-S=  1272\n",
      "Param Max-D=  100 Min-samples-S=  1282\n",
      "Param Max-D=  100 Min-samples-S=  1292\n",
      "Param Max-D=  100 Min-samples-S=  1302\n",
      "Param Max-D=  100 Min-samples-S=  1312\n",
      "Param Max-D=  100 Min-samples-S=  1322\n",
      "Param Max-D=  100 Min-samples-S=  1332\n",
      "Param Max-D=  100 Min-samples-S=  1342\n",
      "Param Max-D=  100 Min-samples-S=  1352\n",
      "Param Max-D=  100 Min-samples-S=  1362\n",
      "Param Max-D=  100 Min-samples-S=  1372\n",
      "Param Max-D=  100 Min-samples-S=  1382\n",
      "Param Max-D=  100 Min-samples-S=  1392\n",
      "Param Max-D=  100 Min-samples-S=  1402\n",
      "Param Max-D=  100 Min-samples-S=  1412\n",
      "Param Max-D=  100 Min-samples-S=  1422\n",
      "Param Max-D=  100 Min-samples-S=  1432\n",
      "Param Max-D=  100 Min-samples-S=  1442\n",
      "Param Max-D=  100 Min-samples-S=  1452\n",
      "Param Max-D=  100 Min-samples-S=  1462\n",
      "Param Max-D=  100 Min-samples-S=  1472\n",
      "Param Max-D=  100 Min-samples-S=  1482\n",
      "Param Max-D=  100 Min-samples-S=  1492\n",
      "Param Max-D=  100 Min-samples-S=  1502\n",
      "Param Max-D=  100 Min-samples-S=  1512\n",
      "Param Max-D=  100 Min-samples-S=  1522\n",
      "Param Max-D=  100 Min-samples-S=  1532\n",
      "Param Max-D=  100 Min-samples-S=  1542\n",
      "Param Max-D=  100 Min-samples-S=  1552\n",
      "Param Max-D=  100 Min-samples-S=  1562\n",
      "Param Max-D=  100 Min-samples-S=  1572\n",
      "Param Max-D=  100 Min-samples-S=  1582\n",
      "Param Max-D=  100 Min-samples-S=  1592\n",
      "Param Max-D=  100 Min-samples-S=  1602\n",
      "Param Max-D=  100 Min-samples-S=  1612\n",
      "Param Max-D=  100 Min-samples-S=  1622\n",
      "Param Max-D=  100 Min-samples-S=  1632\n",
      "Param Max-D=  100 Min-samples-S=  1642\n",
      "Param Max-D=  100 Min-samples-S=  1652\n",
      "Param Max-D=  100 Min-samples-S=  1662\n",
      "Param Max-D=  100 Min-samples-S=  1672\n",
      "Param Max-D=  100 Min-samples-S=  1682\n",
      "Param Max-D=  100 Min-samples-S=  1692\n",
      "Param Max-D=  100 Min-samples-S=  1702\n",
      "Param Max-D=  100 Min-samples-S=  1712\n",
      "Param Max-D=  100 Min-samples-S=  1722\n",
      "Param Max-D=  100 Min-samples-S=  1732\n",
      "Param Max-D=  100 Min-samples-S=  1742\n",
      "Param Max-D=  100 Min-samples-S=  1752\n",
      "Param Max-D=  100 Min-samples-S=  1762\n",
      "Param Max-D=  100 Min-samples-S=  1772\n",
      "Param Max-D=  100 Min-samples-S=  1782\n",
      "Param Max-D=  100 Min-samples-S=  1792\n",
      "Param Max-D=  100 Min-samples-S=  1802\n",
      "Param Max-D=  100 Min-samples-S=  1812\n",
      "Param Max-D=  100 Min-samples-S=  1822\n",
      "Param Max-D=  100 Min-samples-S=  1832\n",
      "Param Max-D=  100 Min-samples-S=  1842\n",
      "Param Max-D=  100 Min-samples-S=  1852\n",
      "Param Max-D=  100 Min-samples-S=  1862\n",
      "Param Max-D=  100 Min-samples-S=  1872\n",
      "Param Max-D=  100 Min-samples-S=  1882\n",
      "Param Max-D=  100 Min-samples-S=  1892\n",
      "Param Max-D=  100 Min-samples-S=  1902\n",
      "Param Max-D=  100 Min-samples-S=  1912\n",
      "Param Max-D=  100 Min-samples-S=  1922\n",
      "Param Max-D=  100 Min-samples-S=  1932\n",
      "Param Max-D=  100 Min-samples-S=  1942\n",
      "Param Max-D=  100 Min-samples-S=  1952\n",
      "Param Max-D=  100 Min-samples-S=  1962\n",
      "Param Max-D=  100 Min-samples-S=  1972\n",
      "Param Max-D=  100 Min-samples-S=  1982\n",
      "Param Max-D=  100 Min-samples-S=  1992\n",
      "Param Max-D=  100 Min-samples-S=  2002\n",
      "Param Max-D=  100 Min-samples-S=  2012\n",
      "Param Max-D=  100 Min-samples-S=  2022\n",
      "Param Max-D=  100 Min-samples-S=  2032\n",
      "Param Max-D=  100 Min-samples-S=  2042\n",
      "Param Max-D=  100 Min-samples-S=  2052\n",
      "Param Max-D=  100 Min-samples-S=  2062\n",
      "Param Max-D=  100 Min-samples-S=  2072\n",
      "Param Max-D=  100 Min-samples-S=  2082\n",
      "Param Max-D=  100 Min-samples-S=  2092\n",
      "Param Max-D=  100 Min-samples-S=  2102\n",
      "Param Max-D=  100 Min-samples-S=  2112\n",
      "Param Max-D=  100 Min-samples-S=  2122\n",
      "Param Max-D=  100 Min-samples-S=  2132\n",
      "Param Max-D=  100 Min-samples-S=  2142\n",
      "Param Max-D=  100 Min-samples-S=  2152\n",
      "Param Max-D=  100 Min-samples-S=  2162\n",
      "Param Max-D=  100 Min-samples-S=  2172\n",
      "Param Max-D=  100 Min-samples-S=  2182\n",
      "Param Max-D=  100 Min-samples-S=  2192\n",
      "Param Max-D=  100 Min-samples-S=  2202\n",
      "Param Max-D=  100 Min-samples-S=  2212\n",
      "Param Max-D=  100 Min-samples-S=  2222\n",
      "Param Max-D=  100 Min-samples-S=  2232\n",
      "Param Max-D=  100 Min-samples-S=  2242\n",
      "Param Max-D=  100 Min-samples-S=  2252\n",
      "Param Max-D=  100 Min-samples-S=  2262\n",
      "Param Max-D=  100 Min-samples-S=  2272\n",
      "Param Max-D=  100 Min-samples-S=  2282\n"
     ]
    },
    {
     "name": "stdout",
     "output_type": "stream",
     "text": [
      "Param Max-D=  100 Min-samples-S=  2292\n",
      "Param Max-D=  100 Min-samples-S=  2302\n",
      "Param Max-D=  100 Min-samples-S=  2312\n",
      "Param Max-D=  100 Min-samples-S=  2322\n",
      "Param Max-D=  100 Min-samples-S=  2332\n",
      "Param Max-D=  100 Min-samples-S=  2342\n",
      "Param Max-D=  100 Min-samples-S=  2352\n",
      "Param Max-D=  100 Min-samples-S=  2362\n",
      "Param Max-D=  100 Min-samples-S=  2372\n",
      "Param Max-D=  100 Min-samples-S=  2382\n",
      "Param Max-D=  100 Min-samples-S=  2392\n",
      "Param Max-D=  100 Min-samples-S=  2402\n",
      "Param Max-D=  100 Min-samples-S=  2412\n",
      "Param Max-D=  100 Min-samples-S=  2422\n",
      "Param Max-D=  100 Min-samples-S=  2432\n",
      "Param Max-D=  100 Min-samples-S=  2442\n",
      "Param Max-D=  100 Min-samples-S=  2452\n",
      "Param Max-D=  100 Min-samples-S=  2462\n",
      "Param Max-D=  100 Min-samples-S=  2472\n",
      "Param Max-D=  100 Min-samples-S=  2482\n",
      "Param Max-D=  100 Min-samples-S=  2492\n",
      "Param Max-D=  100 Min-samples-S=  2502\n",
      "Param Max-D=  100 Min-samples-S=  2512\n",
      "Param Max-D=  100 Min-samples-S=  2522\n",
      "Param Max-D=  100 Min-samples-S=  2532\n",
      "Param Max-D=  100 Min-samples-S=  2542\n",
      "Param Max-D=  100 Min-samples-S=  2552\n",
      "Param Max-D=  100 Min-samples-S=  2562\n",
      "Param Max-D=  100 Min-samples-S=  2572\n",
      "Param Max-D=  100 Min-samples-S=  2582\n",
      "Param Max-D=  100 Min-samples-S=  2592\n",
      "Param Max-D=  100 Min-samples-S=  2602\n",
      "Param Max-D=  100 Min-samples-S=  2612\n",
      "Param Max-D=  100 Min-samples-S=  2622\n",
      "Param Max-D=  100 Min-samples-S=  2632\n",
      "Param Max-D=  100 Min-samples-S=  2642\n",
      "Param Max-D=  100 Min-samples-S=  2652\n",
      "Param Max-D=  100 Min-samples-S=  2662\n",
      "Param Max-D=  100 Min-samples-S=  2672\n",
      "Param Max-D=  100 Min-samples-S=  2682\n",
      "Param Max-D=  100 Min-samples-S=  2692\n",
      "Param Max-D=  100 Min-samples-S=  2702\n",
      "Param Max-D=  100 Min-samples-S=  2712\n",
      "Param Max-D=  100 Min-samples-S=  2722\n",
      "Param Max-D=  100 Min-samples-S=  2732\n",
      "Param Max-D=  100 Min-samples-S=  2742\n",
      "Param Max-D=  100 Min-samples-S=  2752\n",
      "Param Max-D=  100 Min-samples-S=  2762\n",
      "Param Max-D=  100 Min-samples-S=  2772\n",
      "Param Max-D=  100 Min-samples-S=  2782\n",
      "Param Max-D=  100 Min-samples-S=  2792\n",
      "Param Max-D=  100 Min-samples-S=  2802\n",
      "Param Max-D=  100 Min-samples-S=  2812\n",
      "Param Max-D=  100 Min-samples-S=  2822\n",
      "Param Max-D=  100 Min-samples-S=  2832\n",
      "Param Max-D=  100 Min-samples-S=  2842\n"
     ]
    },
    {
     "data": {
      "text/plain": [
       "[<matplotlib.lines.Line2D at 0x285040929b0>]"
      ]
     },
     "execution_count": 11,
     "metadata": {},
     "output_type": "execute_result"
    },
    {
     "data": {
      "image/png": "[encoded data removed]",
      "text/plain": [
       "<Figure size 432x288 with 1 Axes>"
      ]
     },
     "metadata": {
      "needs_background": "light"
     },
     "output_type": "display_data"
    }
   ],
   "source": [
    "CT_train_accs =[]\n",
    "CT_test_accs =[]\n",
    "\n",
    "for i in SamplesS:\n",
    "    model, train_acc, test_acc = do_Tree(x = features_train, y = labels_train, xv = features_val, yv = labels_val, param_d = 100, param_m = i)\n",
    "    CT_train_accs.append(train_acc)\n",
    "    CT_test_accs.append(test_acc)\n",
    "\n",
    "plt.plot(SamplesS, CT_train_accs)\n",
    "plt.plot(SamplesS, CT_test_accs)"
   ]
  },
  {
   "cell_type": "markdown",
   "metadata": {},
   "source": [
    "> j) Utilice una Red Neuronal Artificial (ANN) para intentar resolver el problema, como la que se señala a continuación (utilizando el framework de *keras*): entrenada por 25 iteraciones al dataset (*epochs*) con un tamaño de *batch* de 128 para las actualizaciones de los pesos, utilizando *SGD* con una tasa de aprendizaje $0.1$ sobre la función de pérdida binaria de clasificación. La arquitectura de la red contiene una capa de salida con una única neurona que indica la probabilidad de que el texto sea positivo, una capa escondida con número de neuronas $N_h$ y la capa de entrada implícita para $x$. Varíe el parámetro que corresponde al número de neuronas en la capa oculta $N_h$, en potencias de 2, y vuelva a realizar el gráfico de error con respecto al parámetro. Comente.\n"
   ]
  },
  {
   "cell_type": "code",
   "execution_count": 12,
   "metadata": {},
   "outputs": [
    {
     "name": "stderr",
     "output_type": "stream",
     "text": [
      "Using TensorFlow backend.\n"
     ]
    },
    {
     "name": "stdout",
     "output_type": "stream",
     "text": [
      "Neuron hidden =  2\n",
      "Train_acc =  0.5501230955123901\n",
      "Test_acc =  0.5330520272254944\n",
      "****************************************************************************************************\n",
      "Neuron hidden =  4\n",
      "Train_acc =  0.7449876666069031\n",
      "Test_acc =  0.646976113319397\n",
      "****************************************************************************************************\n",
      "Neuron hidden =  8\n",
      "Train_acc =  0.7077031135559082\n",
      "Test_acc =  0.6160337328910828\n",
      "****************************************************************************************************\n",
      "Neuron hidden =  16\n",
      "Train_acc =  0.6345409750938416\n",
      "Test_acc =  0.5639943480491638\n",
      "****************************************************************************************************\n",
      "Neuron hidden =  32\n",
      "Train_acc =  0.5648962259292603\n",
      "Test_acc =  0.5091420412063599\n",
      "****************************************************************************************************\n",
      "Neuron hidden =  64\n",
      "Train_acc =  0.7530777454376221\n",
      "Test_acc =  0.6244725584983826\n",
      "****************************************************************************************************\n",
      "Neuron hidden =  128\n",
      "Train_acc =  0.502638041973114\n",
      "Test_acc =  0.5063291192054749\n",
      "****************************************************************************************************\n",
      "Neuron hidden =  256\n",
      "Train_acc =  0.5005276203155518\n",
      "Test_acc =  0.5091420412063599\n",
      "****************************************************************************************************\n",
      "Neuron hidden =  512\n",
      "Train_acc =  0.5001758933067322\n",
      "Test_acc =  0.5091420412063599\n",
      "****************************************************************************************************\n"
     ]
    },
    {
     "data": {
      "text/plain": [
       "([<matplotlib.axis.XTick at 0x2850a94cb70>,\n",
       "  <matplotlib.axis.XTick at 0x2850a9f8710>,\n",
       "  <matplotlib.axis.XTick at 0x2850a66b668>,\n",
       "  <matplotlib.axis.XTick at 0x28509350a20>,\n",
       "  <matplotlib.axis.XTick at 0x28509350c88>,\n",
       "  <matplotlib.axis.XTick at 0x28509350390>,\n",
       "  <matplotlib.axis.XTick at 0x28509350240>,\n",
       "  <matplotlib.axis.XTick at 0x2850933b668>,\n",
       "  <matplotlib.axis.XTick at 0x2850933bba8>],\n",
       " <a list of 9 Text xticklabel objects>)"
      ]
     },
     "execution_count": 12,
     "metadata": {},
     "output_type": "execute_result"
    },
    {
     "data": {
      "image/png": "[encoded data removed]",
      "text/plain": [
       "<Figure size 432x288 with 1 Axes>"
      ]
     },
     "metadata": {
      "needs_background": "light"
     },
     "output_type": "display_data"
    }
   ],
   "source": [
    "from keras.models import Sequential\n",
    "from keras.layers import Dense\n",
    "from keras.optimizers import SGD\n",
    "def do_ANN(x,y, xv,yv, param):\n",
    "    print(\"Neuron hidden = \",param)\n",
    "    model = Sequential()\n",
    "    model.add(Dense(units=param, input_dim=x.shape[1], activation=\"sigmoid\"))\n",
    "    model.add(Dense(1, activation=\"sigmoid\"))\n",
    "    model.compile(optimizer=SGD(lr=0.1), loss=\"binary_crossentropy\", metrics=[\"accuracy\"])\n",
    "    model.fit(x, y, epochs=25, batch_size=128, verbose=0)\n",
    "    train_acc = model.evaluate(x,y, verbose=0)[1] #in position 0 is the loss\n",
    "    test_acc = model.evaluate(xv,yv, verbose=0)[1]\n",
    "    return model, train_acc, test_acc\n",
    "N_h = [2**i for i in range(1,10)]\n",
    "\n",
    "\n",
    "ANN_train_accs =[]\n",
    "ANN_test_accs =[]\n",
    "\n",
    "for i in N_h:\n",
    "    model, train_acc, test_acc = do_ANN(x = features_train, y = labels_train, xv = features_val, yv = labels_val, param = i)\n",
    "    ANN_train_accs.append(train_acc)\n",
    "    ANN_test_accs.append(test_acc)\n",
    "    \n",
    "    print(\"Train_acc = \", train_acc)\n",
    "    print(\"Test_acc = \", test_acc)\n",
    "    \n",
    "    print('*' * 100)\n",
    "\n",
    "\n",
    "plt.plot(N_h, ANN_train_accs)\n",
    "plt.plot(N_h, ANN_test_accs)\n",
    "plt.xticks(N_h)"
   ]
  },
  {
   "cell_type": "markdown",
   "metadata": {},
   "source": [
    "> k) Ahora evalúe sobre el conjunto de pruebas el mejor modelo obtenido, seleccionado en base a la métrica de desempeño en el conjunto de validación. Comente sobre la calidad obtenida en el problema trabajado ¿Es un buen valor? ¿Cuál podría ser un valor de referencia?"
   ]
  },
  {
   "cell_type": "code",
   "execution_count": 13,
   "metadata": {},
   "outputs": [
    {
     "name": "stdout",
     "output_type": "stream",
     "text": [
      "Param C=  1\n",
      "Train_acc =  0.9850872256612268\n",
      "Test_acc =  0.7228474957794034\n"
     ]
    }
   ],
   "source": [
    "model, train_acc, test_acc = do_LOGIT(x = original_features_train, y = original_labels_train, xv = features_test, yv = labels_test, param = 1)\n",
    "print(\"Train_acc = \", train_acc)\n",
    "print(\"Test_acc = \", test_acc)"
   ]
  },
  {
   "cell_type": "markdown",
   "metadata": {},
   "source": [
    "> l) Para comparar sus resultados utilice el modelo VADER (*Valence Aware Dictionary and sEntiment Reasoner*) [[6]](#refs), el cual entrega una *score* de predicción a nivel léxico (de palabras que comúnmente se asocian a una orientiación positiva o negativa). Este modelo construido manualmente no requiere entrenamiento, por lo que solo debe evaluar en conjunto de pruebas realizando predicciones del texto bruto (sin pre-procesamiento). Comente.\n"
   ]
  },
  {
   "cell_type": "code",
   "execution_count": 14,
   "metadata": {},
   "outputs": [
    {
     "data": {
      "text/plain": [
       "0.6359032076533483"
      ]
     },
     "execution_count": 14,
     "metadata": {},
     "output_type": "execute_result"
    }
   ],
   "source": [
    "from vaderSentiment.vaderSentiment import SentimentIntensityAnalyzer \n",
    "def vader_predict(sentences): \n",
    "    sid_obj = SentimentIntensityAnalyzer() \n",
    "    sent_v = []\n",
    "    for text in sentences:\n",
    "        sentiment_dict = sid_obj.polarity_scores(text) \n",
    "        if sentiment_dict[\"pos\"] > sentiment_dict[\"neg\"]: #based on scores\n",
    "            sent_v.append(1)\n",
    "        else:\n",
    "            sent_v.append(0)\n",
    "    return np.asarray(sent_v)\n",
    "vader_pred_test = vader_predict(df_test_text) \n",
    "from sklearn.metrics import accuracy_score\n",
    "accuracy_score(labels_test, vader_pred_test)"
   ]
  },
  {
   "cell_type": "markdown",
   "metadata": {},
   "source": [
    "> m) Bajo la idea del modelo VADER realice un análisis de qué palabras su modelo tiende a considerar como positivas o negativas por si solas. Algunos de los modelos estudiados en esta sección realizan una predicción probabilista, utilice uno de éstos para verificar lo solicitado. Sobre la representación *TF* genere datos de entradas que contengan una sola palabra del vocabulario para evaluar que predicción les genera su modelo a esas palabras. Muestre las palabras más negativas y positivas en el vocabulario consideradas por su modelo. Comente.\n"
   ]
  },
  {
   "cell_type": "code",
   "execution_count": 15,
   "metadata": {},
   "outputs": [
    {
     "name": "stdout",
     "output_type": "stream",
     "text": [
      "Most negative Word: worst, prob: 0.8508366513541293\n",
      "Most positive Word: solid, prob: 0.8230236008390955\n",
      "****************************************************************************************************\n",
      "Conjunto de palabras positivas:\n",
      "['solid', 'solidly', 'solipsism', 'solo', 'solondz', 'solondzian', 'somber', 'some', 'somebody', 'somehow']\n",
      "Conjunto de palabras negativas:\n",
      "['worst', 'worthless', 'worthy', 'wound', 'wounding', 'wow', 'wrapped', 'wreaked', 'wreckage', 'wrenching']\n"
     ]
    }
   ],
   "source": [
    "V = len(vocab)\n",
    "word_scores = np.zeros((V, 2))\n",
    "for i in range(V):\n",
    "    x_word = np.zeros((1, V))\n",
    "    x_word[:,i] = 1 # only the \"i\" word appeared\n",
    "    word_scores[i] = model.predict_proba(x_word)  #devuelve [proba de que sea 0, proba de que sea 1]\n",
    "    \n",
    "indexes = np.argmax(word_scores, axis = 0)\n",
    "\n",
    "print('Most negative Word:', vocab[indexes[0]]+ ', prob:', word_scores[indexes[0]][0])\n",
    "print('Most positive Word:', vocab[indexes[1]]+ ', prob:', word_scores[indexes[1]][1])\n",
    "\n",
    "neg=[]\n",
    "pos=[]\n",
    "for i in range(10):\n",
    "    indexes = np.argmax(word_scores, axis = 0)\n",
    "    neg.append(vocab[indexes[0]])\n",
    "    pos.append(vocab[indexes[1]])\n",
    "    vocab.pop(indexes[0])\n",
    "    vocab.pop(indexes[1]-1)\n",
    "\n",
    "print('*'*100)\n",
    "# \n",
    "print(\"Conjunto de palabras positivas:\")\n",
    "print(pos)\n",
    "\n",
    "print(\"Conjunto de palabras negativas:\")\n",
    "print(neg)\n"
   ]
  },
  {
   "cell_type": "markdown",
   "metadata": {},
   "source": [
    "> n) Intente mejorar los resultados de otra manera. Varíe el pre-procesamiento realizado a los datos en c), por ejemplo eliminar símbolos, números o aplicar la técnica de *stemmming* [[7]](#refs) en lugar de *lemmatization* para llevar a su tronco léxico.\n"
   ]
  },
  {
   "cell_type": "code",
   "execution_count": 123,
   "metadata": {},
   "outputs": [
    {
     "name": "stdout",
     "output_type": "stream",
     "text": [
      "Param C=  1\n",
      "Train_acc =  0.8922341024198087\n",
      "Test_acc =  0.6783905458638154\n"
     ]
    }
   ],
   "source": [
    "from nltk.stem.porter import PorterStemmer\n",
    "import re, time\n",
    "from nltk.corpus import stopwords\n",
    "from nltk import WordNetLemmatizer, word_tokenize\n",
    "\n",
    "\n",
    "df_train_text = df_train.Text\n",
    "df_test_text = df_test.Text\n",
    "labels_train = df_train.Sentiment.values\n",
    "labels_test = df_test.Sentiment.values\n",
    "\n",
    "\n",
    "def base_word(word):\n",
    "    wordstemmer = PorterStemmer()\n",
    "    return wordstemmer.stem(word)\n",
    "def word_extractor(text):\n",
    "    commonwords = stopwords.words('english')\n",
    "    commonwords.remove('not')\n",
    "    text = re.sub(r'([a-z])\\1+', r'\\1\\1',text)#substitute multiple letter by two\n",
    "    text = re.sub(r'[1-9]', r'',text)#delete numbers\n",
    "    text = re.sub(r'[^A-Za-z0-9 ]+', r'',text)#delete numbers\n",
    "\n",
    "    words = \"\"\n",
    "    wordtokens = [ base_word(word.lower()) for word in word_tokenize(text) ]\n",
    "    for word in wordtokens:\n",
    "        if word not in commonwords: #delete stopwords\n",
    "            words+=\" \"+word\n",
    "    return words\n",
    "... #try yourself\n",
    "\n",
    "word_extractor(\"I love to eat cake\"),\n",
    "word_extractor(\"I love eating cake\"),\n",
    "word_extractor(\"I loved eating the cake\"),\n",
    "word_extractor(\"I do not love eating cake\"),\n",
    "word_extractor(\"I don't love eating cake\")\n",
    "... #try yourself\n",
    "\n",
    "texts_train = [word_extractor(text) for text in df_train_text]\n",
    "texts_test = [word_extractor(text) for text in df_test_text]\n",
    "\n",
    "features_train = vectorizer.transform(texts_train)\n",
    "features_test = vectorizer.transform(texts_test)\n",
    "\n",
    "model, train_acc, test_acc = do_LOGIT(x = features_train, y = labels_train, xv = features_test, yv = labels_test, param = 1)\n",
    "print(\"Train_acc = \", train_acc)\n",
    "print(\"Test_acc = \", test_acc)"
   ]
  },
  {
   "cell_type": "markdown",
   "metadata": {},
   "source": [
    "Realizando una modificacion del extractor de palabras se obtiene que la eliminacion tanto de los numeros como los simbolos no mejoran el algoritmo, dado que originalmente se tenia Test_acc =  0.6924592009003939, el cual al aplicar la eliminacion de numeros (Test_acc =  0.6902082160945414) y de simbolos (Test_acc =  0.6775464265616207) se obtiene Test_acc =  0.6783905458638154.\n",
    "\n",
    "En resumen, para este caso el eliminar símbolos y números provoca un empeoramiento en el desempeño."
   ]
  },
  {
   "cell_type": "markdown",
   "metadata": {},
   "source": [
    "> o) Varíe la representación utilizada actualmente por alguna otra que ayude a mejorar el desempeño, por ejemplo reducir el peso de una palabra si es que aparece en muchos textos: TF-IDF. Existen varias opciones que podría realizar para mejorar el desempeño, por ejemplo reducir el vocabulario a las $K$ palabras más frecuentes, eliminar las palabras menos frecuentes, normalizar la representación, utilizar *n-gramas*, entre otras.\n"
   ]
  },
  {
   "cell_type": "code",
   "execution_count": 63,
   "metadata": {},
   "outputs": [
    {
     "name": "stdout",
     "output_type": "stream",
     "text": [
      "Param C=  1\n",
      "Train_acc =  0.9223410241980866\n",
      "Test_acc =  0.7507034327518289\n"
     ]
    }
   ],
   "source": [
    "from sklearn.feature_extraction.text import TfidfVectorizer\n",
    "tfidf_model = TfidfVectorizer(binary=False, ngram_range=(1, 1), max_df=1.0, min_df=1, max_features=None, norm='l2', use_idf=True, sublinear_tf=False)\n",
    "tfidf_model.fit(texts_train)\n",
    "\n",
    "features_train_final = tfidf_model.transform(texts_train)\n",
    "features_test_final = tfidf_model.transform(texts_test)\n",
    "\n",
    "vocab = tfidf_model.get_feature_names()\n",
    "dist=list(np.array(features_train.sum(axis=0)).reshape(-1,))\n",
    "\n",
    "model, train_acc, test_acc = do_LOGIT(x = features_train_final, y = labels_train, xv = features_test_final, yv = labels_test, param = 1)\n",
    "print(\"Train_acc = \", train_acc)\n",
    "print(\"Test_acc = \", test_acc)\n",
    "\n",
    "\n",
    "\n",
    "#Reducir a las K palabras más frecuentes en caso de tener tiempo"
   ]
  },
  {
   "cell_type": "markdown",
   "metadata": {},
   "source": [
    "Al utilizar esta nueva representación obtenemos una mejora de desempeño notable."
   ]
  },
  {
   "cell_type": "markdown",
   "metadata": {},
   "source": [
    "> p) Utilice métricas auxiliares para entender en qué falla su mejor modelo obtenido hasta el momento. ¿La información entregada indica cómo se podría mejorar o cual sería la causa de la falla?\n"
   ]
  },
  {
   "cell_type": "code",
   "execution_count": 64,
   "metadata": {},
   "outputs": [
    {
     "name": "stdout",
     "output_type": "stream",
     "text": [
      "Detailed Analysis Testing Results ...\n",
      "                  precision    recall  f1-score   support\n",
      "\n",
      "negative opinion       0.75      0.76      0.76      1803\n",
      "positive opinion       0.75      0.74      0.75      1751\n",
      "\n",
      "        accuracy                           0.75      3554\n",
      "       macro avg       0.75      0.75      0.75      3554\n",
      "    weighted avg       0.75      0.75      0.75      3554\n",
      "\n"
     ]
    }
   ],
   "source": [
    "from sklearn.metrics import classification_report\n",
    "def score_the_model(model, x, y):\n",
    "    print(\"Detailed Analysis Testing Results ...\")\n",
    "    print(classification_report(y, model.predict(x), target_names=['negative opinion','positive opinion']))\n",
    "score_the_model(model, features_test_final, labels_test )\n",
    "\n",
    "#Precision – Accuracy of positive predictions. = TP/(TP + FP)\n",
    "#Recall – Recall: Fraction of positives that were correctly identified. = TP/(TP+FN)\n",
    "#F1 score – What percent of positive predictions were correct? = 2*(Recall * Precision) / (Recall + Precision)\n",
    "\n",
    "#TN / True Negative: when a case was negative and predicted negative\n",
    "#TP / True Positive: when a case was positive and predicted positive\n",
    "#FN / False Negative: when a case was positive but predicted negative\n",
    "#FP / False Positive: when a case was negative but predicted positive"
   ]
  },
  {
   "cell_type": "markdown",
   "metadata": {},
   "source": [
    "Lo que se nos entrega a través de la función 'classification_report', es un análisis de falsos/verdaderos positivos y negativos. Para este caso, esta información no nos entrega pistas sobre como se podría mejorar o cuál sería la causa de alguna falla."
   ]
  },
  {
   "cell_type": "markdown",
   "metadata": {},
   "source": [
    "> q) Algo que se puede modificar en algunos modelos de aprendizaje es poner peso en cada una de las clases, por ejemplo si una clase es de mayor interés que las otras e interesa reducir más su error. En *sklearn* ésto puede ser realizado con el parámetro de *class_weights*. Por ejemplo, asigne que detectar los textos negativos me interesa 5 veces más que detectar los textos positivos. Comente."
   ]
  },
  {
   "cell_type": "code",
   "execution_count": 65,
   "metadata": {},
   "outputs": [
    {
     "name": "stdout",
     "output_type": "stream",
     "text": [
      "Detailed Analysis Testing Results ...\n",
      "                  precision    recall  f1-score   support\n",
      "\n",
      "negative opinion       0.55      0.99      0.71      1803\n",
      "positive opinion       0.92      0.18      0.30      1751\n",
      "\n",
      "        accuracy                           0.59      3554\n",
      "       macro avg       0.74      0.58      0.50      3554\n",
      "    weighted avg       0.73      0.59      0.51      3554\n",
      "\n"
     ]
    }
   ],
   "source": [
    "classes_weights = {0: 5, 1: 1} #or choose..\n",
    "model.set_params(class_weight=classes_weights)\n",
    "model.fit(features_train_final, labels_train)\n",
    "score_the_model(model, features_test_final, labels_test)"
   ]
  },
  {
   "cell_type": "markdown",
   "metadata": {},
   "source": [
    "Al otorgarle mayor peso a las predicciones negativas, se obtiene un resultado bastante interesante. Del apartado anterior, dijimos que *recall* corresponde a la *'fracción de positivos que fueron correctamente identificados'*. En este caso para las opiniones negativas se obtuvo un valor del **99%**, esto significa que, del total de predicciones de opiniones negativas que hizo el modelo, el **99% estuvo correcto**. Sin embargo esto tiene un inconveniente, ya que se pierde *precision* en opiniones negativas (predecir negativa una opinion positiva) y sobre todo se pierde mucho *recall* en opiniones positivas, este es solo de **18%**. En conclusión, esta característica serviría solamente si estamos dispuestos a sacrificar las opiniones positivas."
   ]
  },
  {
   "cell_type": "markdown",
   "metadata": {},
   "source": [
    "> r) Visualice la clasificación que realiza su mejor modelo sobre algunos textos de pruebas ¿Qué entega mas información, una predicción categórica o una continua? ¿Cuál podría ser el beneficio de una o de otra? Comente\n"
   ]
  },
  {
   "cell_type": "code",
   "execution_count": 66,
   "metadata": {},
   "outputs": [
    {
     "name": "stdout",
     "output_type": "stream",
     "text": [
      "True sent:  Negative -- Pred sent:  Negative, prob: 0.6400575762568838\n",
      "Raw text:  yet another movie which presumes that high school social groups are at war , let alone conscious of each other's existence .\n",
      "\n",
      "True sent:  Positive -- Pred sent:  Positive, prob: 0.794096457772596\n",
      "Raw text:  with this masterful , flawless film , [wang] emerges in the front ranks of china's now numerous , world-renowned filmmakers .\n",
      "\n",
      "True sent:  Positive -- Pred sent:  Positive, prob: 0.6989300677040893\n",
      "Raw text:  a delightful romantic comedy with plenty of bite . it's far from a frothy piece , and the characters are complex , laden with plenty of baggage and tinged with tragic undertones .\n",
      "\n",
      "True sent:  Positive -- Pred sent:  Positive, prob: 0.6218554416945798\n",
      "Raw text:  a raunchy and frequently hilarious follow-up to the gifted korean american stand-up's i'm the one that i want .\n",
      "\n",
      "True sent:  Positive -- Pred sent:  Positive, prob: 0.5069566898798277\n",
      "Raw text:  an overly familiar scenario is made fresh by an intelligent screenplay and gripping performances in this low-budget , video-shot , debut indie effort .\n",
      "\n",
      "True sent:  Positive -- Pred sent:  Positive, prob: 0.5460892556194351\n",
      "Raw text:  there is a welcome lack of pretension about the film , which very simply sets out to entertain and ends up delivering in good measure .\n",
      "\n",
      "True sent:  Negative -- Pred sent:  Negative, prob: 0.6797415545729594\n",
      "Raw text:  this picture is mostly a lump of run-of-the-mill profanity sprinkled with a few remarks so geared toward engendering audience sympathy that you might think he was running for office -- or trying to win over a probation officer .\n",
      "\n",
      "True sent:  Negative -- Pred sent:  Negative, prob: 0.6157248503176673\n",
      "Raw text:  absurdities and clichés accumulate like lint in a fat man's navel .\n",
      "\n",
      "True sent:  Negative -- Pred sent:  Positive, prob: 0.5893919773743188\n",
      "Raw text:  family togetherness takes a back seat to inter-family rivalry and workplace ambition&#133 ; whole subplots have no explanation or even plot relevance .\n",
      "\n",
      "True sent:  Negative -- Pred sent:  Negative, prob: 0.5188922873443238\n",
      "Raw text:  late marriage's stiffness is unlikely to demonstrate the emotional clout to sweep u . s . viewers off their feet .\n",
      "\n",
      "True sent:  Negative -- Pred sent:  Negative, prob: 0.7173780926118551\n",
      "Raw text:  an instantly forgettable snow-and-stuntwork extravaganza that likely will be upstaged by an avalanche of more appealing holiday-season product .\n",
      "\n",
      "True sent:  Positive -- Pred sent:  Negative, prob: 0.5004948614174782\n",
      "Raw text:  the directive to protect the code at all costs also begins to blur as the importance of the man and the code merge\n",
      "\n",
      "True sent:  Positive -- Pred sent:  Positive, prob: 0.6886259228458572\n",
      "Raw text:  barney has created a tour de force that is weird , wacky and wonderful .\n",
      "\n",
      "True sent:  Positive -- Pred sent:  Positive, prob: 0.719872187685012\n",
      "Raw text:  it's no surprise that as a director washington demands and receives excellent performances , from himself and from newcomer derek luke .\n",
      "\n",
      "True sent:  Negative -- Pred sent:  Negative, prob: 0.5408898917503481\n",
      "Raw text:  at the very least , if you don't know anything about derrida when you walk into the theater , you won't know much more when you leave .\n",
      "\n"
     ]
    }
   ],
   "source": [
    "classes_weights = {0: 1, 1: 1} #or choose..\n",
    "model.set_params(class_weight=classes_weights)\n",
    "model.fit(features_train_final, labels_train)\n",
    "\n",
    "test_pred = model.predict_proba(features_test_final) #or \".predict\"\n",
    "spl = np.random.randint( 0, len(test_pred), size=15)\n",
    "for text, pred_s, true_s in zip(df_test_text[spl], test_pred[spl], labels_test[spl]):\n",
    "    if true_s == 0.0:\n",
    "        true_s = 'Negative'\n",
    "    else:\n",
    "        true_s = 'Positive'\n",
    "    if pred_s[0]<pred_s[1]:\n",
    "        pred_s = 'Positive, prob: ' + str(pred_s[1])#para que se vea mas bonito\n",
    "    else:\n",
    "        pred_s = 'Negative, prob: ' + str(pred_s[0])\n",
    "    \n",
    "    print(\"True sent: \", true_s, \"-- Pred sent: \",pred_s)\n",
    "    print(\"Raw text: \", text)\n"
   ]
  },
  {
   "cell_type": "markdown",
   "metadata": {},
   "source": [
    "Definitivamente la predicción continua nos entrega mucha más información, esto debido a que nuestro modelo se basa en probabilidades. Existen casos en que la predicción se hace con una probabilidad cercana al 50%, esto significa que el modelo pudo equivocarse pero no por tanto, quizás porque el lenguaje utilizado en la opinión no es del todo claro en el sentimiento de la opinión."
   ]
  },
  {
   "cell_type": "markdown",
   "metadata": {},
   "source": [
    "> s) Comente sobre el desempeño obtenido por los diferentes modelos de aprendizaje utilizados al enfrentar el problema, ¿Dónde pareciera estar la mejora? ¿En la variación de los modelos y sus parámetros o en la modificación de la representación? ¿Cuál modelo de aprendizaje le parece mejor en base a su criterio? ya sea desempeño, tiempo de ejecución comodidad en las decisiones involucradas, etc."
   ]
  },
  {
   "cell_type": "markdown",
   "metadata": {},
   "source": [
    "La mejora pareciera estar en la representación utilizada para que el modelo maneje los datos, puesto que al variar esta en el inciso **o)** obtuvimos una mejora de rendimiento cercana al **4%** en nuestro modelo. EL mejor modelo a nuestro criterio es definitamente el modelo de Regresión Logística Regularizado, es de los más rápidos y tiene el mejor desempeño en este problema, lo vimos a lo largo del notebook. El resto de modelos tuvieron problemas mayoritariamente en desempeño, y unos poco en tiempo. Nos llamó la atención que la red neuronal tuviera bajo desempeño y tomaba bastante tiempo."
   ]
  },
  {
   "cell_type": "markdown",
   "metadata": {},
   "source": [
    "## 2. Problema de Múltiples Anotaciones\n",
    "\n",
    "El aprendizaje supervisado visto en clases da cuenta que existe una única posible etiqueta $z$ (*ground truth*) asociada a un dato $x$ para poder aprender de los datos. Sin embargo, la definición del *ground truth* en algunos casos puede resultar bastante difícil de definir o bastante costoso, por ejemplo en problemas médicos donde se deben realizar invasivos exámenes para conocer la \"verdad absoluta\". Como alternativa se pueden recolectar múltiples anotaciones desde personas inexpertas en el área para poder estimar el *ground truth*. \n",
    "\n",
    "<img src=\"http://www.irishenvironment.com/wp-content/uploads/2013/11/crowdsourcing.jpg\" title=\"Title text\" width=\"40%\" />\n",
    "\n",
    "En esta actividad se trabajará en el caso en que contamos con múltiples anotaciones por cada dato de entrada $x_i$ dadas por personas inexpertas a través de Amazon Mechanical Turk (__[AMT](https://www.mturk.com/)__), es decir, $y^{(1)}, y^{(2)} \\ldots y^{(T_i)}$. El problema de predicción trabajado será el mismo de la actividad anterior, el análisis de sentimiento de un extracto de texto en Rotten Tomatoes. Los datos trabajados [[8]](#refs) pueden ser descargados de la página del autor.\n",
    "```\n",
    "wget http://fprodrigues.com//mturk-datasets.tar.gz\n",
    "```\n",
    "\n",
    "De esta manera trabajaremos con el archivo *mturk_answers.csv* en la carpeta *sentiment polarity* que se puede cargar con pandas. En este archivo se tendrán múltiples filas/registros por cada dato de entrenamiento, cada uno representando la etiqueta que entregó una persona (*worker*) a ese dato, los detalles de columnas son:\n",
    "* *WorkerId*: identificador de la persona que etiquetó/anotó el dato\n",
    "* *Input.id*: identificador del dato a etiquetar/anotar\n",
    "* *Input.original_sentence*: texto original del dato\n",
    "* *Input.stemmed_sent*: texto pre-procesado\n",
    "* *Input.true_sent*: sentimiento real (*ground truth*) del dato\n",
    "* *Answer.sent*:   etiqueta/anotación que entregó la persona\n",
    "\n",
    "```python\n",
    "import pandas as pd\n",
    "df = pd.read_csv(\"./sentiment_polarity/mturk_answers.csv\") \n",
    "```\n",
    "\n",
    "> El objetivo de la actividad será el de obtener un modelo predictor del *ground truth* sin entrenar directamente con esto, sino que utilizar las múltiples anotaciones de las personas\n",
    "\n",
    "### Importante\n",
    "* Deberá crear un conjunto aleatorio de pruebas que solo contenga los textos y el sentimiento *ground truth* (sin repeticiones)\n",
    "* Los valores de *ground truth* están **solo para evaluar**, no puede utilizarlos para entrenar o tomar decisiones en su modelo.\n",
    "* La métrica de evaluación será el *accuracy score*\n",
    "```python\n",
    "from sklearn.metrics import accuracy_score\n",
    "accuracy_score(y_true, y_pred)\n",
    "```\n",
    "\n",
    "#### Sugerencias\n",
    "Para representar los textos, a diferencia de lo visto en la sección 1, se puede utilizar lo que son la representación vectorial de palabras (*word vectors*), a través de modelos especializados entrenados para aprender una representación en que palabras similares estén cercanas en el espacio vectorial. Puede utilizar los vectores livianos de __[GLOVE](https://nlp.stanford.edu/projects/glove/)__ en su versión entradas en textos de Wikipedia con 6 billones de palabras/tokens.\n",
    "```python\n",
    "EMBEDDING_DIM = 300\n",
    "GLOVE_FILE = \"./glove.6B.%dd.txt\"%(EMBEDDING_DIM)\n",
    "embeddings_index = {}\n",
    "with open(GLOVE_FILE) as file:\n",
    "    for line in file:\n",
    "        values = line.split()\n",
    "        embeddings_index[values[0]] = np.asarray(values[1:], dtype='float32')\n",
    "...\n",
    "embeddings_index.get(word)\n",
    "```\n",
    "> Para descargar GLOVE\n",
    "```\n",
    "wget http://nlp.stanford.edu/data/glove.6B.zip\n",
    "```"
   ]
  },
  {
   "cell_type": "markdown",
   "metadata": {},
   "source": [
    "### Visualizando el DataFrame"
   ]
  },
  {
   "cell_type": "code",
   "execution_count": 126,
   "metadata": {},
   "outputs": [
    {
     "data": {
      "text/html": [
       "<div>\n",
       "<style scoped>\n",
       "    .dataframe tbody tr th:only-of-type {\n",
       "        vertical-align: middle;\n",
       "    }\n",
       "\n",
       "    .dataframe tbody tr th {\n",
       "        vertical-align: top;\n",
       "    }\n",
       "\n",
       "    .dataframe thead th {\n",
       "        text-align: right;\n",
       "    }\n",
       "</style>\n",
       "<table border=\"1\" class=\"dataframe\">\n",
       "  <thead>\n",
       "    <tr style=\"text-align: right;\">\n",
       "      <th></th>\n",
       "      <th>WorkerId</th>\n",
       "      <th>Input.id</th>\n",
       "      <th>Input.original_sentence</th>\n",
       "      <th>Input.stemmed_sent</th>\n",
       "      <th>Input.true_sent</th>\n",
       "      <th>Answer.sent</th>\n",
       "    </tr>\n",
       "  </thead>\n",
       "  <tbody>\n",
       "    <tr>\n",
       "      <td>0</td>\n",
       "      <td>A2HD5XMM48KKJW</td>\n",
       "      <td>4518</td>\n",
       "      <td>the cast is phenomenal , especially the women .</td>\n",
       "      <td>cast phenomen especi women</td>\n",
       "      <td>pos</td>\n",
       "      <td>pos</td>\n",
       "    </tr>\n",
       "    <tr>\n",
       "      <td>1</td>\n",
       "      <td>A2HD5XMM48KKJW</td>\n",
       "      <td>10415</td>\n",
       "      <td>the metaphors are provocative , but too often ...</td>\n",
       "      <td>metaphor provoc often viewer left puzzl mechan...</td>\n",
       "      <td>neg</td>\n",
       "      <td>neg</td>\n",
       "    </tr>\n",
       "    <tr>\n",
       "      <td>2</td>\n",
       "      <td>A2HD5XMM48KKJW</td>\n",
       "      <td>7098</td>\n",
       "      <td>while there's something intrinsically funny ab...</td>\n",
       "      <td>there someth intrins funni sir anthoni hopkin ...</td>\n",
       "      <td>neg</td>\n",
       "      <td>pos</td>\n",
       "    </tr>\n",
       "    <tr>\n",
       "      <td>3</td>\n",
       "      <td>A2HD5XMM48KKJW</td>\n",
       "      <td>4396</td>\n",
       "      <td>a harrowing account of a psychological breakdo...</td>\n",
       "      <td>harrow account psycholog breakdown</td>\n",
       "      <td>pos</td>\n",
       "      <td>neg</td>\n",
       "    </tr>\n",
       "    <tr>\n",
       "      <td>4</td>\n",
       "      <td>A2HD5XMM48KKJW</td>\n",
       "      <td>2812</td>\n",
       "      <td>. . . a visually seductive , unrepentantly tr...</td>\n",
       "      <td>visual seduct unrepentantli trashi rice instal...</td>\n",
       "      <td>pos</td>\n",
       "      <td>pos</td>\n",
       "    </tr>\n",
       "    <tr>\n",
       "      <td>...</td>\n",
       "      <td>...</td>\n",
       "      <td>...</td>\n",
       "      <td>...</td>\n",
       "      <td>...</td>\n",
       "      <td>...</td>\n",
       "      <td>...</td>\n",
       "    </tr>\n",
       "    <tr>\n",
       "      <td>27741</td>\n",
       "      <td>A4F3BK6J0PCVH</td>\n",
       "      <td>7144</td>\n",
       "      <td>the movie fails to live up to the sum of its p...</td>\n",
       "      <td>movi fail live sum part</td>\n",
       "      <td>neg</td>\n",
       "      <td>neg</td>\n",
       "    </tr>\n",
       "    <tr>\n",
       "      <td>27742</td>\n",
       "      <td>A4F3BK6J0PCVH</td>\n",
       "      <td>8293</td>\n",
       "      <td>the balkans provide the obstacle course for th...</td>\n",
       "      <td>balkan provid obstacl cours love good woman</td>\n",
       "      <td>neg</td>\n",
       "      <td>neg</td>\n",
       "    </tr>\n",
       "    <tr>\n",
       "      <td>27743</td>\n",
       "      <td>A4F3BK6J0PCVH</td>\n",
       "      <td>2929</td>\n",
       "      <td>this is a smart movie that knows its classical...</td>\n",
       "      <td>smart movi know classic music know freud know ...</td>\n",
       "      <td>pos</td>\n",
       "      <td>pos</td>\n",
       "    </tr>\n",
       "    <tr>\n",
       "      <td>27744</td>\n",
       "      <td>A4F3BK6J0PCVH</td>\n",
       "      <td>6902</td>\n",
       "      <td>there's something with potential here , but th...</td>\n",
       "      <td>there someth potenti movi decid lavinia conser...</td>\n",
       "      <td>neg</td>\n",
       "      <td>neg</td>\n",
       "    </tr>\n",
       "    <tr>\n",
       "      <td>27745</td>\n",
       "      <td>A4F3BK6J0PCVH</td>\n",
       "      <td>1369</td>\n",
       "      <td>. . . a fun little timewaster , helped especi...</td>\n",
       "      <td>fun littl timewast help especi cool presenc je...</td>\n",
       "      <td>pos</td>\n",
       "      <td>pos</td>\n",
       "    </tr>\n",
       "  </tbody>\n",
       "</table>\n",
       "<p>27746 rows × 6 columns</p>\n",
       "</div>"
      ],
      "text/plain": [
       "             WorkerId  Input.id  \\\n",
       "0      A2HD5XMM48KKJW      4518   \n",
       "1      A2HD5XMM48KKJW     10415   \n",
       "2      A2HD5XMM48KKJW      7098   \n",
       "3      A2HD5XMM48KKJW      4396   \n",
       "4      A2HD5XMM48KKJW      2812   \n",
       "...               ...       ...   \n",
       "27741   A4F3BK6J0PCVH      7144   \n",
       "27742   A4F3BK6J0PCVH      8293   \n",
       "27743   A4F3BK6J0PCVH      2929   \n",
       "27744   A4F3BK6J0PCVH      6902   \n",
       "27745   A4F3BK6J0PCVH      1369   \n",
       "\n",
       "                                 Input.original_sentence  \\\n",
       "0       the cast is phenomenal , especially the women .    \n",
       "1      the metaphors are provocative , but too often ...   \n",
       "2      while there's something intrinsically funny ab...   \n",
       "3      a harrowing account of a psychological breakdo...   \n",
       "4       . . . a visually seductive , unrepentantly tr...   \n",
       "...                                                  ...   \n",
       "27741  the movie fails to live up to the sum of its p...   \n",
       "27742  the balkans provide the obstacle course for th...   \n",
       "27743  this is a smart movie that knows its classical...   \n",
       "27744  there's something with potential here , but th...   \n",
       "27745   . . . a fun little timewaster , helped especi...   \n",
       "\n",
       "                                      Input.stemmed_sent Input.true_sent  \\\n",
       "0                             cast phenomen especi women             pos   \n",
       "1      metaphor provoc often viewer left puzzl mechan...             neg   \n",
       "2      there someth intrins funni sir anthoni hopkin ...             neg   \n",
       "3                     harrow account psycholog breakdown             pos   \n",
       "4      visual seduct unrepentantli trashi rice instal...             pos   \n",
       "...                                                  ...             ...   \n",
       "27741                            movi fail live sum part             neg   \n",
       "27742        balkan provid obstacl cours love good woman             neg   \n",
       "27743  smart movi know classic music know freud know ...             pos   \n",
       "27744  there someth potenti movi decid lavinia conser...             neg   \n",
       "27745  fun littl timewast help especi cool presenc je...             pos   \n",
       "\n",
       "      Answer.sent  \n",
       "0             pos  \n",
       "1             neg  \n",
       "2             pos  \n",
       "3             neg  \n",
       "4             pos  \n",
       "...           ...  \n",
       "27741         neg  \n",
       "27742         neg  \n",
       "27743         pos  \n",
       "27744         neg  \n",
       "27745         pos  \n",
       "\n",
       "[27746 rows x 6 columns]"
      ]
     },
     "execution_count": 126,
     "metadata": {},
     "output_type": "execute_result"
    }
   ],
   "source": [
    "df = pd.read_csv(\"./sentiment_polarity/mturk_answers.csv\") \n",
    "df"
   ]
  },
  {
   "cell_type": "code",
   "execution_count": 125,
   "metadata": {},
   "outputs": [
    {
     "name": "stdout",
     "output_type": "stream",
     "text": [
      "(4999,) (4999,) (27746,) (27746,)\n"
     ]
    }
   ],
   "source": [
    "df.loc[df['Input.true_sent'] == 'pos', 'Input.true_sent'] = 1\n",
    "df.loc[df['Input.true_sent'] == 'neg', 'Input.true_sent'] = 0\n",
    "df.loc[df['Answer.sent'] == 'pos', 'Answer.sent'] = 1\n",
    "df.loc[df['Answer.sent'] == 'neg', 'Answer.sent'] = 0\n",
    "\n",
    "true_sent_df = df.iloc[:,[3,4]].copy()    #Creacion de dataframes a usar con texto pre-procesado y true_sent/answer\n",
    "answer_sent_df = df.iloc[:,[3,5]].copy()\n",
    "\n",
    "true_sent_df = true_sent_df.drop_duplicates(subset = 'Input.stemmed_sent').copy() #eliminar opiniones duplicadas\n",
    "\n",
    "true_sent_texts = true_sent_df['Input.stemmed_sent'].copy()\n",
    "true_sent_labels = true_sent_df['Input.true_sent'].copy()\n",
    "\n",
    "...\n",
    "\n",
    "answer_sent_texts = answer_sent_df['Input.stemmed_sent'].copy()\n",
    "answer_sent_labels = answer_sent_df['Answer.sent'].copy()\n",
    "\n",
    "print(true_sent_texts.shape, true_sent_labels.shape, answer_sent_texts.shape, answer_sent_labels.shape)"
   ]
  },
  {
   "cell_type": "markdown",
   "metadata": {},
   "source": [
    "### Formamos nuestros conjuntos entrenamiento y validación"
   ]
  },
  {
   "cell_type": "code",
   "execution_count": 116,
   "metadata": {},
   "outputs": [],
   "source": [
    "df_train_text, df_val_text, labels_train_2, labels_val_2 = train_test_split(answer_sent_texts, answer_sent_labels, test_size= 0.2, random_state=0)"
   ]
  },
  {
   "cell_type": "markdown",
   "metadata": {},
   "source": [
    "---\n",
    "\n",
    "- Al igual que en la parte 1, destinaremos un 80% de los datos a entrenamiento y un 20% a validación\n",
    "\n",
    "\n",
    "---"
   ]
  },
  {
   "cell_type": "markdown",
   "metadata": {},
   "source": [
    "### Vectorizamos con la mejor técnica que obtuvimos en la parte 1"
   ]
  },
  {
   "cell_type": "code",
   "execution_count": 117,
   "metadata": {},
   "outputs": [],
   "source": [
    "from sklearn.feature_extraction.text import TfidfVectorizer\n",
    "tfidf_model = TfidfVectorizer(binary=False, ngram_range=(1, 1), max_df=1.0, min_df=1, max_features=None, norm='l2', use_idf=True, sublinear_tf=False)\n",
    "tfidf_model.fit(df_train_text)\n",
    "\n",
    "\n",
    "features_train_2 = tfidf_model.transform(df_train_text)\n",
    "features_val_2 = tfidf_model.transform(df_val_text)\n",
    "features_test_2 = tfidf_model.transform(true_sent_texts)\n",
    "\n",
    "features_test_part1 = tfidf_model.transform(texts_test)\n",
    "\n",
    "vocab = tfidf_model.get_feature_names()\n",
    "dist=list(np.array(features_train.sum(axis=0)).reshape(-1,))\n"
   ]
  },
  {
   "cell_type": "markdown",
   "metadata": {},
   "source": [
    "----\n",
    "\n",
    "- Con los datos ya preparados procedemos a utilizar el mejor modelo que obtuvimos en la parte 1, esto debido a que los problemas son similares en escencia.\n",
    "\n",
    "----"
   ]
  },
  {
   "cell_type": "markdown",
   "metadata": {},
   "source": [
    "### Validando nuestro modelo"
   ]
  },
  {
   "cell_type": "code",
   "execution_count": 118,
   "metadata": {},
   "outputs": [
    {
     "name": "stdout",
     "output_type": "stream",
     "text": [
      "Param C=  1\n",
      "Train_acc =  0.812578843034781\n",
      "Test_acc =  0.7627027027027027\n"
     ]
    }
   ],
   "source": [
    "model_2, train_acc, test_acc = do_LOGIT(x = features_train_2, y = labels_train_2, xv = features_val_2, yv = labels_val_2, param = 1)\n",
    "print(\"Train_acc = \", train_acc)\n",
    "print(\"Test_acc = \", test_acc)"
   ]
  },
  {
   "cell_type": "markdown",
   "metadata": {},
   "source": [
    "---\n",
    "\n",
    "- Al igual que en la parte 1, obtenemos buenos resultados, incluso mejores que en esta!\n",
    "\n",
    "---"
   ]
  },
  {
   "cell_type": "markdown",
   "metadata": {},
   "source": [
    "### Testeando con ground truth"
   ]
  },
  {
   "cell_type": "code",
   "execution_count": 119,
   "metadata": {},
   "outputs": [
    {
     "data": {
      "text/plain": [
       "0.8629725945189037"
      ]
     },
     "execution_count": 119,
     "metadata": {},
     "output_type": "execute_result"
    }
   ],
   "source": [
    "from sklearn.metrics import accuracy_score\n",
    "test_pred = model_2.predict(features_test_2)\n",
    "\n",
    "accuracy_score(true_sent_labels, test_pred)\n"
   ]
  },
  {
   "cell_type": "markdown",
   "metadata": {},
   "source": [
    "---\n",
    "\n",
    "- El desempeño es realmente bueno.\n",
    "\n",
    "---"
   ]
  },
  {
   "cell_type": "markdown",
   "metadata": {},
   "source": [
    "### Testeando con los datos de la parte 1"
   ]
  },
  {
   "cell_type": "code",
   "execution_count": 120,
   "metadata": {},
   "outputs": [
    {
     "data": {
      "text/plain": [
       "0.7777152504220597"
      ]
     },
     "execution_count": 120,
     "metadata": {},
     "output_type": "execute_result"
    }
   ],
   "source": [
    "test_pred = model_2.predict(features_test_part1)\n",
    "\n",
    "accuracy_score(labels_test, test_pred)\n"
   ]
  }
 ],
 "metadata": {
  "kernelspec": {
   "display_name": "Python 3",
   "language": "python",
   "name": "python3"
  },
  "language_info": {
   "codemirror_mode": {
    "name": "ipython",
    "version": 3
   },
   "file_extension": ".py",
   "mimetype": "text/x-python",
   "name": "python",
   "nbconvert_exporter": "python",
   "pygments_lexer": "ipython3",
   "version": "3.6.5"
  }
 },
 "nbformat": 4,
 "nbformat_minor": 2
}
